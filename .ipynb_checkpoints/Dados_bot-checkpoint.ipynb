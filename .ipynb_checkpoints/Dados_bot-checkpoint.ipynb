{
 "cells": [
  {
   "cell_type": "code",
   "execution_count": 1,
   "id": "french-secondary",
   "metadata": {},
   "outputs": [],
   "source": [
    "from datetime import datetime, timedelta\n",
    "import sqlite3\n",
    "import pandas as pd\n",
    "import matplotlib.pyplot as plt"
   ]
  },
  {
   "cell_type": "code",
   "execution_count": 2,
   "id": "nutritional-space",
   "metadata": {},
   "outputs": [],
   "source": [
    "import get_dados as gd"
   ]
  },
  {
   "cell_type": "code",
   "execution_count": 3,
   "id": "second-validity",
   "metadata": {},
   "outputs": [],
   "source": [
    "con = sqlite3.connect(\"dados_varias_coin.db\")\n",
    "bot_id = 1\n",
    "df_bot_1 = pd.read_sql_query(f'SELECT * from operacoes_bot WHERE bot_id =={bot_id};', con)\n",
    "bot_id = 2\n",
    "df_bot_2 = pd.read_sql_query(f'SELECT * from operacoes_bot WHERE bot_id =={bot_id};', con)\n",
    "con.close()"
   ]
  },
  {
   "cell_type": "code",
   "execution_count": 4,
   "id": "apart-nation",
   "metadata": {},
   "outputs": [
    {
     "data": {
      "text/html": [
       "<div>\n",
       "<style scoped>\n",
       "    .dataframe tbody tr th:only-of-type {\n",
       "        vertical-align: middle;\n",
       "    }\n",
       "\n",
       "    .dataframe tbody tr th {\n",
       "        vertical-align: top;\n",
       "    }\n",
       "\n",
       "    .dataframe thead th {\n",
       "        text-align: right;\n",
       "    }\n",
       "</style>\n",
       "<table border=\"1\" class=\"dataframe\">\n",
       "  <thead>\n",
       "    <tr style=\"text-align: right;\">\n",
       "      <th></th>\n",
       "      <th>id</th>\n",
       "      <th>coin</th>\n",
       "      <th>qnt_brl_inicial</th>\n",
       "      <th>qnt_coin</th>\n",
       "      <th>qnt_brl_atual</th>\n",
       "      <th>grid_valor</th>\n",
       "      <th>limite_inferior</th>\n",
       "      <th>limite_superior</th>\n",
       "      <th>qnt_trade</th>\n",
       "    </tr>\n",
       "  </thead>\n",
       "  <tbody>\n",
       "    <tr>\n",
       "      <th>0</th>\n",
       "      <td>1</td>\n",
       "      <td>XRP</td>\n",
       "      <td>20.0</td>\n",
       "      <td>0.9961</td>\n",
       "      <td>17.641099</td>\n",
       "      <td>0.06</td>\n",
       "      <td>1.90</td>\n",
       "      <td>3.1</td>\n",
       "      <td>0.5</td>\n",
       "    </tr>\n",
       "    <tr>\n",
       "      <th>1</th>\n",
       "      <td>2</td>\n",
       "      <td>XRP</td>\n",
       "      <td>20.0</td>\n",
       "      <td>1.9922</td>\n",
       "      <td>15.225006</td>\n",
       "      <td>0.04</td>\n",
       "      <td>2.25</td>\n",
       "      <td>2.7</td>\n",
       "      <td>0.5</td>\n",
       "    </tr>\n",
       "  </tbody>\n",
       "</table>\n",
       "</div>"
      ],
      "text/plain": [
       "   id coin  qnt_brl_inicial  qnt_coin  qnt_brl_atual  grid_valor  \\\n",
       "0   1  XRP             20.0    0.9961      17.641099        0.06   \n",
       "1   2  XRP             20.0    1.9922      15.225006        0.04   \n",
       "\n",
       "   limite_inferior  limite_superior  qnt_trade  \n",
       "0             1.90              3.1        0.5  \n",
       "1             2.25              2.7        0.5  "
      ]
     },
     "execution_count": 4,
     "metadata": {},
     "output_type": "execute_result"
    }
   ],
   "source": [
    "con = sqlite3.connect(\"dados_varias_coin.db\")\n",
    "ls_bot = pd.read_sql_query(f'SELECT * from bot;', con)\n",
    "ls_bot.head()"
   ]
  },
  {
   "cell_type": "code",
   "execution_count": null,
   "id": "bearing-immune",
   "metadata": {},
   "outputs": [],
   "source": []
  },
  {
   "cell_type": "code",
   "execution_count": 5,
   "id": "rolled-paraguay",
   "metadata": {},
   "outputs": [],
   "source": [
    "ultimo_valor_negociado = gd.get_ultimo_gravado(\"XRP\")[5]"
   ]
  },
  {
   "cell_type": "code",
   "execution_count": 6,
   "id": "decreased-proposition",
   "metadata": {},
   "outputs": [
    {
     "data": {
      "text/html": [
       "<div>\n",
       "<style scoped>\n",
       "    .dataframe tbody tr th:only-of-type {\n",
       "        vertical-align: middle;\n",
       "    }\n",
       "\n",
       "    .dataframe tbody tr th {\n",
       "        vertical-align: top;\n",
       "    }\n",
       "\n",
       "    .dataframe thead th {\n",
       "        text-align: right;\n",
       "    }\n",
       "</style>\n",
       "<table border=\"1\" class=\"dataframe\">\n",
       "  <thead>\n",
       "    <tr style=\"text-align: right;\">\n",
       "      <th></th>\n",
       "      <th>id</th>\n",
       "      <th>bot_id</th>\n",
       "      <th>estado_ordem</th>\n",
       "      <th>v_tag_ordem</th>\n",
       "      <th>valor_compra</th>\n",
       "      <th>qnt_comprada</th>\n",
       "      <th>order_compra_id</th>\n",
       "      <th>time_compra</th>\n",
       "      <th>valor_venda</th>\n",
       "      <th>qnt_vendida</th>\n",
       "      <th>order_venda_id</th>\n",
       "      <th>time_venda</th>\n",
       "      <th>lucro</th>\n",
       "      <th>fee</th>\n",
       "    </tr>\n",
       "  </thead>\n",
       "  <tbody>\n",
       "    <tr>\n",
       "      <th>0</th>\n",
       "      <td>5</td>\n",
       "      <td>1</td>\n",
       "      <td>compra_criada</td>\n",
       "      <td>2.32</td>\n",
       "      <td>2.32928</td>\n",
       "      <td>0.5</td>\n",
       "      <td>40037174</td>\n",
       "      <td>1612587928</td>\n",
       "      <td>2.38928</td>\n",
       "      <td>0.5</td>\n",
       "      <td>NaN</td>\n",
       "      <td>NaN</td>\n",
       "      <td>None</td>\n",
       "      <td>None</td>\n",
       "    </tr>\n",
       "    <tr>\n",
       "      <th>1</th>\n",
       "      <td>8</td>\n",
       "      <td>1</td>\n",
       "      <td>finalizada</td>\n",
       "      <td>2.38</td>\n",
       "      <td>2.37378</td>\n",
       "      <td>0.5</td>\n",
       "      <td>40056634</td>\n",
       "      <td>1612603061</td>\n",
       "      <td>2.4301435700000003</td>\n",
       "      <td>0.49805</td>\n",
       "      <td>40057510.0</td>\n",
       "      <td>1.612625e+09</td>\n",
       "      <td>None</td>\n",
       "      <td>None</td>\n",
       "    </tr>\n",
       "    <tr>\n",
       "      <th>2</th>\n",
       "      <td>12</td>\n",
       "      <td>1</td>\n",
       "      <td>finalizada</td>\n",
       "      <td>2.38</td>\n",
       "      <td>2.38952</td>\n",
       "      <td>0.5</td>\n",
       "      <td>40092337</td>\n",
       "      <td>1612626482</td>\n",
       "      <td>2.4458600500000003</td>\n",
       "      <td>0.49805</td>\n",
       "      <td>40096034.0</td>\n",
       "      <td>1.612628e+09</td>\n",
       "      <td>None</td>\n",
       "      <td>None</td>\n",
       "    </tr>\n",
       "    <tr>\n",
       "      <th>3</th>\n",
       "      <td>13</td>\n",
       "      <td>1</td>\n",
       "      <td>venda_criada</td>\n",
       "      <td>2.44</td>\n",
       "      <td>2.42197</td>\n",
       "      <td>0.5</td>\n",
       "      <td>40093902</td>\n",
       "      <td>1612625810</td>\n",
       "      <td>2.48197</td>\n",
       "      <td>0.49805</td>\n",
       "      <td>40094249.0</td>\n",
       "      <td>1.612626e+09</td>\n",
       "      <td>None</td>\n",
       "      <td>None</td>\n",
       "    </tr>\n",
       "    <tr>\n",
       "      <th>4</th>\n",
       "      <td>18</td>\n",
       "      <td>1</td>\n",
       "      <td>venda_criada</td>\n",
       "      <td>2.38</td>\n",
       "      <td>2.38952</td>\n",
       "      <td>0.5</td>\n",
       "      <td>40098885</td>\n",
       "      <td>1612643602</td>\n",
       "      <td>2.44952</td>\n",
       "      <td>0.49805</td>\n",
       "      <td>40125459.0</td>\n",
       "      <td>1.612644e+09</td>\n",
       "      <td>None</td>\n",
       "      <td>None</td>\n",
       "    </tr>\n",
       "  </tbody>\n",
       "</table>\n",
       "</div>"
      ],
      "text/plain": [
       "   id  bot_id   estado_ordem v_tag_ordem valor_compra qnt_comprada  \\\n",
       "0   5       1  compra_criada        2.32      2.32928          0.5   \n",
       "1   8       1     finalizada        2.38      2.37378          0.5   \n",
       "2  12       1     finalizada        2.38      2.38952          0.5   \n",
       "3  13       1   venda_criada        2.44      2.42197          0.5   \n",
       "4  18       1   venda_criada        2.38      2.38952          0.5   \n",
       "\n",
       "   order_compra_id  time_compra         valor_venda qnt_vendida  \\\n",
       "0         40037174   1612587928             2.38928         0.5   \n",
       "1         40056634   1612603061  2.4301435700000003     0.49805   \n",
       "2         40092337   1612626482  2.4458600500000003     0.49805   \n",
       "3         40093902   1612625810             2.48197     0.49805   \n",
       "4         40098885   1612643602             2.44952     0.49805   \n",
       "\n",
       "   order_venda_id    time_venda lucro   fee  \n",
       "0             NaN           NaN  None  None  \n",
       "1      40057510.0  1.612625e+09  None  None  \n",
       "2      40096034.0  1.612628e+09  None  None  \n",
       "3      40094249.0  1.612626e+09  None  None  \n",
       "4      40125459.0  1.612644e+09  None  None  "
      ]
     },
     "execution_count": 6,
     "metadata": {},
     "output_type": "execute_result"
    }
   ],
   "source": [
    "df_bot_1.head()\n"
   ]
  },
  {
   "cell_type": "code",
   "execution_count": 7,
   "id": "forward-equality",
   "metadata": {},
   "outputs": [
    {
     "data": {
      "text/html": [
       "<div>\n",
       "<style scoped>\n",
       "    .dataframe tbody tr th:only-of-type {\n",
       "        vertical-align: middle;\n",
       "    }\n",
       "\n",
       "    .dataframe tbody tr th {\n",
       "        vertical-align: top;\n",
       "    }\n",
       "\n",
       "    .dataframe thead th {\n",
       "        text-align: right;\n",
       "    }\n",
       "</style>\n",
       "<table border=\"1\" class=\"dataframe\">\n",
       "  <thead>\n",
       "    <tr style=\"text-align: right;\">\n",
       "      <th></th>\n",
       "      <th>id</th>\n",
       "      <th>bot_id</th>\n",
       "      <th>estado_ordem</th>\n",
       "      <th>v_tag_ordem</th>\n",
       "      <th>valor_compra</th>\n",
       "      <th>qnt_comprada</th>\n",
       "      <th>order_compra_id</th>\n",
       "      <th>time_compra</th>\n",
       "      <th>valor_venda</th>\n",
       "      <th>qnt_vendida</th>\n",
       "      <th>order_venda_id</th>\n",
       "      <th>time_venda</th>\n",
       "      <th>lucro</th>\n",
       "      <th>fee</th>\n",
       "    </tr>\n",
       "  </thead>\n",
       "  <tbody>\n",
       "    <tr>\n",
       "      <th>0</th>\n",
       "      <td>6</td>\n",
       "      <td>2</td>\n",
       "      <td>finalizada</td>\n",
       "      <td>2.33</td>\n",
       "      <td>2.33932</td>\n",
       "      <td>0.5</td>\n",
       "      <td>40037186</td>\n",
       "      <td>1612610214</td>\n",
       "      <td>2.37576494</td>\n",
       "      <td>0.49805</td>\n",
       "      <td>40069395.0</td>\n",
       "      <td>1.612612e+09</td>\n",
       "      <td>None</td>\n",
       "      <td>None</td>\n",
       "    </tr>\n",
       "    <tr>\n",
       "      <th>1</th>\n",
       "      <td>7</td>\n",
       "      <td>2</td>\n",
       "      <td>finalizada</td>\n",
       "      <td>2.37</td>\n",
       "      <td>2.37948</td>\n",
       "      <td>0.5</td>\n",
       "      <td>40055903</td>\n",
       "      <td>1612602611</td>\n",
       "      <td>2.41585494</td>\n",
       "      <td>0.49805</td>\n",
       "      <td>40056464.0</td>\n",
       "      <td>1.612624e+09</td>\n",
       "      <td>None</td>\n",
       "      <td>None</td>\n",
       "    </tr>\n",
       "    <tr>\n",
       "      <th>2</th>\n",
       "      <td>9</td>\n",
       "      <td>2</td>\n",
       "      <td>finalizada</td>\n",
       "      <td>2.65</td>\n",
       "      <td>2.37184</td>\n",
       "      <td>0.5</td>\n",
       "      <td>40060080</td>\n",
       "      <td>1612605900</td>\n",
       "      <td>2.40822635</td>\n",
       "      <td>0.49805</td>\n",
       "      <td>40060805.0</td>\n",
       "      <td>1.612624e+09</td>\n",
       "      <td>None</td>\n",
       "      <td>None</td>\n",
       "    </tr>\n",
       "    <tr>\n",
       "      <th>3</th>\n",
       "      <td>10</td>\n",
       "      <td>2</td>\n",
       "      <td>compra_criada</td>\n",
       "      <td>2.33</td>\n",
       "      <td>2.33932</td>\n",
       "      <td>0.5</td>\n",
       "      <td>40073274</td>\n",
       "      <td>1612612553</td>\n",
       "      <td>2.37932</td>\n",
       "      <td>0.5</td>\n",
       "      <td>NaN</td>\n",
       "      <td>NaN</td>\n",
       "      <td>None</td>\n",
       "      <td>None</td>\n",
       "    </tr>\n",
       "    <tr>\n",
       "      <th>4</th>\n",
       "      <td>11</td>\n",
       "      <td>2</td>\n",
       "      <td>finalizada</td>\n",
       "      <td>2.41</td>\n",
       "      <td>2.40436</td>\n",
       "      <td>0.5</td>\n",
       "      <td>40090694</td>\n",
       "      <td>1612624446</td>\n",
       "      <td>2.44070776</td>\n",
       "      <td>0.49805</td>\n",
       "      <td>40091362.0</td>\n",
       "      <td>1.612625e+09</td>\n",
       "      <td>None</td>\n",
       "      <td>None</td>\n",
       "    </tr>\n",
       "  </tbody>\n",
       "</table>\n",
       "</div>"
      ],
      "text/plain": [
       "   id  bot_id   estado_ordem v_tag_ordem valor_compra qnt_comprada  \\\n",
       "0   6       2     finalizada        2.33      2.33932          0.5   \n",
       "1   7       2     finalizada        2.37      2.37948          0.5   \n",
       "2   9       2     finalizada        2.65      2.37184          0.5   \n",
       "3  10       2  compra_criada        2.33      2.33932          0.5   \n",
       "4  11       2     finalizada        2.41      2.40436          0.5   \n",
       "\n",
       "   order_compra_id  time_compra valor_venda qnt_vendida  order_venda_id  \\\n",
       "0         40037186   1612610214  2.37576494     0.49805      40069395.0   \n",
       "1         40055903   1612602611  2.41585494     0.49805      40056464.0   \n",
       "2         40060080   1612605900  2.40822635     0.49805      40060805.0   \n",
       "3         40073274   1612612553     2.37932         0.5             NaN   \n",
       "4         40090694   1612624446  2.44070776     0.49805      40091362.0   \n",
       "\n",
       "     time_venda lucro   fee  \n",
       "0  1.612612e+09  None  None  \n",
       "1  1.612624e+09  None  None  \n",
       "2  1.612624e+09  None  None  \n",
       "3           NaN  None  None  \n",
       "4  1.612625e+09  None  None  "
      ]
     },
     "execution_count": 7,
     "metadata": {},
     "output_type": "execute_result"
    }
   ],
   "source": [
    "df_bot_2.head()"
   ]
  },
  {
   "cell_type": "code",
   "execution_count": 8,
   "id": "junior-washer",
   "metadata": {},
   "outputs": [],
   "source": [
    "def get_lucro(df):\n",
    "    r_estado = df[\"estado_ordem\"] ==\"finalizada\"\n",
    "    df_lucro = df[r_estado]\n",
    "    df_lucro[\"valor_venda\"] = df_lucro[\"valor_venda\"].astype(float)\n",
    "    df_lucro[\"qnt_vendida\"] = df_lucro[\"qnt_vendida\"].astype(float)\n",
    "    df_lucro[\"valor_compra\"] = df_lucro[\"valor_compra\"].astype(float)\n",
    "    df_lucro[\"qnt_comprada\"] = df_lucro[\"qnt_comprada\"].astype(float)\n",
    "    def map_lucro(x):\n",
    "        lucro = x[\"valor_venda\"]* x[\"qnt_vendida\"] - x[\"valor_compra\"] * x[\"qnt_comprada\"]\n",
    "        return lucro\n",
    "\n",
    "    if not df_lucro.empty:\n",
    "        df_lucro[\"lucro\"] = df_lucro.apply(map_lucro, axis =1 )\n",
    "        lucro_total = sum(df_lucro[\"lucro\"])\n",
    "        print(f'O bot {df_lucro[\"bot_id\"].iloc[0]} deu um lucro de {lucro_total}')\n",
    "    return df_lucro, lucro_total\n",
    "    "
   ]
  },
  {
   "cell_type": "code",
   "execution_count": 9,
   "id": "korean-tongue",
   "metadata": {},
   "outputs": [
    {
     "name": "stdout",
     "output_type": "stream",
     "text": [
      "O bot 1 deu um lucro de 0.046843602941000206\n",
      "O bot 2 deu um lucro de 0.06734626760599993\n",
      "0.11418987054700014\n"
     ]
    },
    {
     "name": "stderr",
     "output_type": "stream",
     "text": [
      "<ipython-input-8-63660e8e1ccb>:4: SettingWithCopyWarning: \n",
      "A value is trying to be set on a copy of a slice from a DataFrame.\n",
      "Try using .loc[row_indexer,col_indexer] = value instead\n",
      "\n",
      "See the caveats in the documentation: https://pandas.pydata.org/pandas-docs/stable/user_guide/indexing.html#returning-a-view-versus-a-copy\n",
      "  df_lucro[\"valor_venda\"] = df_lucro[\"valor_venda\"].astype(float)\n",
      "<ipython-input-8-63660e8e1ccb>:5: SettingWithCopyWarning: \n",
      "A value is trying to be set on a copy of a slice from a DataFrame.\n",
      "Try using .loc[row_indexer,col_indexer] = value instead\n",
      "\n",
      "See the caveats in the documentation: https://pandas.pydata.org/pandas-docs/stable/user_guide/indexing.html#returning-a-view-versus-a-copy\n",
      "  df_lucro[\"qnt_vendida\"] = df_lucro[\"qnt_vendida\"].astype(float)\n",
      "<ipython-input-8-63660e8e1ccb>:6: SettingWithCopyWarning: \n",
      "A value is trying to be set on a copy of a slice from a DataFrame.\n",
      "Try using .loc[row_indexer,col_indexer] = value instead\n",
      "\n",
      "See the caveats in the documentation: https://pandas.pydata.org/pandas-docs/stable/user_guide/indexing.html#returning-a-view-versus-a-copy\n",
      "  df_lucro[\"valor_compra\"] = df_lucro[\"valor_compra\"].astype(float)\n",
      "<ipython-input-8-63660e8e1ccb>:7: SettingWithCopyWarning: \n",
      "A value is trying to be set on a copy of a slice from a DataFrame.\n",
      "Try using .loc[row_indexer,col_indexer] = value instead\n",
      "\n",
      "See the caveats in the documentation: https://pandas.pydata.org/pandas-docs/stable/user_guide/indexing.html#returning-a-view-versus-a-copy\n",
      "  df_lucro[\"qnt_comprada\"] = df_lucro[\"qnt_comprada\"].astype(float)\n",
      "<ipython-input-8-63660e8e1ccb>:13: SettingWithCopyWarning: \n",
      "A value is trying to be set on a copy of a slice from a DataFrame.\n",
      "Try using .loc[row_indexer,col_indexer] = value instead\n",
      "\n",
      "See the caveats in the documentation: https://pandas.pydata.org/pandas-docs/stable/user_guide/indexing.html#returning-a-view-versus-a-copy\n",
      "  df_lucro[\"lucro\"] = df_lucro.apply(map_lucro, axis =1 )\n"
     ]
    }
   ],
   "source": [
    "df_lucro_b1, lucro_1 = get_lucro(df_bot_1)\n",
    "df_lucro_b2, lucro_2 = get_lucro(df_bot_2)\n",
    "\n",
    "print(lucro_1 + lucro_2)"
   ]
  },
  {
   "cell_type": "code",
   "execution_count": 10,
   "id": "southeast-atlas",
   "metadata": {},
   "outputs": [],
   "source": [
    "def get_dinheiro_empenhado(df):\n",
    "    r_estado = (df[\"estado_ordem\"] == \"compra_aberta\") | (df[\"estado_ordem\"] == \"compra_criada\") |  (df[\"estado_ordem\"] == \"compra_executada\")\n",
    "    df_dinheiro_empenhado = df[r_estado]\n",
    "    def map_dinheiro_alocado(x):\n",
    "        return  float(x[\"valor_compra\"]) * float(x[\"qnt_comprada\"])\n",
    "    som_dinheiro_empenhado = 0\n",
    "    if not df_dinheiro_empenhado.empty:\n",
    "        df_dinheiro_empenhado[\"dinheiro_alocado\"] = df_dinheiro_empenhado.apply(map_dinheiro_alocado, axis =1 )\n",
    "        som_dinheiro_empenhado= sum(df_dinheiro_empenhado[\"dinheiro_alocado\"])\n",
    "    return df_dinheiro_empenhado, som_dinheiro_empenhado\n",
    "    "
   ]
  },
  {
   "cell_type": "code",
   "execution_count": 25,
   "id": "experienced-cologne",
   "metadata": {},
   "outputs": [
    {
     "name": "stderr",
     "output_type": "stream",
     "text": [
      "<ipython-input-10-85659c072395>:8: SettingWithCopyWarning: \n",
      "A value is trying to be set on a copy of a slice from a DataFrame.\n",
      "Try using .loc[row_indexer,col_indexer] = value instead\n",
      "\n",
      "See the caveats in the documentation: https://pandas.pydata.org/pandas-docs/stable/user_guide/indexing.html#returning-a-view-versus-a-copy\n",
      "  df_dinheiro_empenhado[\"dinheiro_alocado\"] = df_dinheiro_empenhado.apply(map_dinheiro_alocado, axis =1 )\n"
     ]
    }
   ],
   "source": [
    "de_1, sde_1 = get_dinheiro_empenhado(df_bot_1)\n",
    "de_2, sde_2 = get_dinheiro_empenhado(df_bot_2)"
   ]
  },
  {
   "cell_type": "code",
   "execution_count": null,
   "id": "marked-vegetation",
   "metadata": {},
   "outputs": [],
   "source": []
  },
  {
   "cell_type": "code",
   "execution_count": 12,
   "id": "relevant-limitation",
   "metadata": {},
   "outputs": [],
   "source": [
    "# df_lucro.head()"
   ]
  },
  {
   "cell_type": "code",
   "execution_count": 13,
   "id": "progressive-columbus",
   "metadata": {},
   "outputs": [],
   "source": [
    "def coin_empenhada(df):\n",
    "    r_estado_venda = (df[\"estado_ordem\"] == \"venda_aberta\") | (df[\"estado_ordem\"] == \"venda_criada\") |  (df[\"estado_ordem\"] == \"venda_executada\")\n",
    "\n",
    "    df_coin_empenhada = df[r_estado_venda]\n",
    "    \n",
    "    def map_dinheiro_alocado(x):\n",
    "        return float(x[\"qnt_comprada\"])\n",
    "    \n",
    "    qnt_moeda_empenhada = 0\n",
    "    if not df_coin_empenhada.empty:\n",
    "        df_coin_empenhada[\"moeda_alocada\"] = df_coin_empenhada.apply(map_dinheiro_alocado, axis =1 )\n",
    "        qnt_moeda_empenhada = sum(df_coin_empenhada[\"moeda_alocada\"])\n",
    "        \n",
    "    return df_coin_empenhada, qnt_moeda_empenhada\n",
    "        "
   ]
  },
  {
   "cell_type": "code",
   "execution_count": 14,
   "id": "unnecessary-afghanistan",
   "metadata": {},
   "outputs": [
    {
     "name": "stdout",
     "output_type": "stream",
     "text": [
      "2.39561\n",
      "4.79122\n"
     ]
    },
    {
     "name": "stderr",
     "output_type": "stream",
     "text": [
      "<ipython-input-13-2726b42cdad6>:11: SettingWithCopyWarning: \n",
      "A value is trying to be set on a copy of a slice from a DataFrame.\n",
      "Try using .loc[row_indexer,col_indexer] = value instead\n",
      "\n",
      "See the caveats in the documentation: https://pandas.pydata.org/pandas-docs/stable/user_guide/indexing.html#returning-a-view-versus-a-copy\n",
      "  df_coin_empenhada[\"moeda_alocada\"] = df_coin_empenhada.apply(map_dinheiro_alocado, axis =1 )\n"
     ]
    }
   ],
   "source": [
    "print(coin_empenhada(df_bot_1)[1]*ultimo_valor_negociado)\n",
    "print(coin_empenhada(df_bot_2)[1]*ultimo_valor_negociado)"
   ]
  },
  {
   "cell_type": "code",
   "execution_count": 15,
   "id": "progressive-institute",
   "metadata": {},
   "outputs": [],
   "source": [
    "# df_dinheiro_empenhado.head()"
   ]
  },
  {
   "cell_type": "code",
   "execution_count": 16,
   "id": "catholic-november",
   "metadata": {},
   "outputs": [],
   "source": [
    "# df_dinheiro_empenhado[\"order_venda_id\"].dropna().astype('int')"
   ]
  },
  {
   "cell_type": "code",
   "execution_count": 24,
   "id": "referenced-platform",
   "metadata": {},
   "outputs": [
    {
     "data": {
      "text/plain": [
       "0    17.641099\n",
       "Name: qnt_brl_atual, dtype: float64"
      ]
     },
     "execution_count": 24,
     "metadata": {},
     "output_type": "execute_result"
    }
   ],
   "source": [
    "# df.iloc[1][\"time_venda\"]\n",
    "\n",
    "ls_bot[ls_bot[\"id\"]==1][\"qnt_brl_atual\"]"
   ]
  },
  {
   "cell_type": "code",
   "execution_count": null,
   "id": "imposed-thinking",
   "metadata": {},
   "outputs": [],
   "source": [
    "dinheir_bot_1 = ls_bot[ls_bot[\"id\"]==1][\"qnt_brl_atual\"] + lucro_1 + sde_1"
   ]
  },
  {
   "cell_type": "code",
   "execution_count": null,
   "id": "patient-ridge",
   "metadata": {},
   "outputs": [],
   "source": []
  },
  {
   "cell_type": "code",
   "execution_count": null,
   "id": "parliamentary-making",
   "metadata": {},
   "outputs": [],
   "source": []
  },
  {
   "cell_type": "code",
   "execution_count": null,
   "id": "published-bhutan",
   "metadata": {},
   "outputs": [],
   "source": []
  },
  {
   "cell_type": "code",
   "execution_count": 18,
   "id": "noted-company",
   "metadata": {},
   "outputs": [],
   "source": [
    "def get_lucro(valor_entrada, valor_saida, qnt_desejada):\n",
    "    valor_pago = valor_entrada * qnt_desejada\n",
    "    qnt_comprada_taxada = qnt_desejada * (1 - 0.3/100) \n",
    "#     print(valor_pago,qnt_comprada_taxada)\n",
    "    valor_saida = qnt_comprada_taxada * valor_saida\n",
    "    valor_saida_taxada =  valor_saida  * (1 - 0.3/100)\n",
    "    lucro_pos_taxas = valor_saida_taxada - valor_pago\n",
    "    return valor_pago, valor_saida_taxada, lucro_pos_taxas\n",
    "    \n",
    "    "
   ]
  },
  {
   "cell_type": "code",
   "execution_count": 19,
   "id": "fitting-atmosphere",
   "metadata": {},
   "outputs": [
    {
     "data": {
      "text/plain": [
       "(2.38, 2.4253819599999997, 0.04538195999999983)"
      ]
     },
     "execution_count": 19,
     "metadata": {},
     "output_type": "execute_result"
    }
   ],
   "source": [
    "get_lucro(2.38, 2.44, 1)"
   ]
  },
  {
   "cell_type": "code",
   "execution_count": 20,
   "id": "annual-martial",
   "metadata": {},
   "outputs": [
    {
     "data": {
      "text/plain": [
       "0.01275088999999996"
      ]
     },
     "execution_count": 20,
     "metadata": {},
     "output_type": "execute_result"
    }
   ],
   "source": [
    "qnt_moeda = 0.5\n",
    "saida = get_lucro(2.38, 2.42, qnt_moeda)[2] #+ get_lucro(2.38, 2.41, qnt_moeda)[2] + get_lucro(2.38, 2.41, qnt_moeda)[2]+ get_lucro(2.38, 2.41, qnt_moeda)[2] \n",
    "saida"
   ]
  },
  {
   "cell_type": "code",
   "execution_count": 21,
   "id": "burning-coast",
   "metadata": {},
   "outputs": [
    {
     "data": {
      "text/plain": [
       "0.022690979999999916"
      ]
     },
     "execution_count": 21,
     "metadata": {},
     "output_type": "execute_result"
    }
   ],
   "source": [
    "get_lucro(2.38, 2.44, qnt_moeda)[2] #+get_lucro(2.38, 2.44, qnt_moeda)[2]"
   ]
  },
  {
   "cell_type": "code",
   "execution_count": 22,
   "id": "following-shield",
   "metadata": {},
   "outputs": [],
   "source": [
    "# def map_dinheiro_alocado(x):\n",
    "#     return  float(x[\"valor_compra\"]) * float(x[\"qnt_comprada\"])\n",
    "\n",
    "# def map_moeda(x):\n",
    "#     pass\n",
    "\n",
    "# if not df_dinheiro_empenhado.empty:\n",
    "#     df_dinheiro_empenhado[\"dinheiro_alocado\"] = df_dinheiro_empenhado.apply(map_dinheiro_alocado, axis =1 )\n",
    "# def map_pot_lucro(x):\n",
    "#     c = float(x[\"valor_compra\"]) * float(x[\"qnt_comprada\"])\n",
    "#     v = float(x[\"valor_venda\"]) * float(x[\"qnt_vendida\"])\n",
    "#     return v - c\n",
    "# if not df_dinheiro_empenhado.empty:\n",
    "#     df_dinheiro_empenhado[\"pot_lucro\"] = df_dinheiro_empenhado.apply(map_pot_lucro, axis =1 )\n",
    "#     qnt_total = 20\n",
    "#     valor_alocado= sum(df_dinheiro_empenhado[\"dinheiro_alocado\"])\n",
    "#     por_alocada = valor_alocado/qnt_total * 100\n",
    "#     qnt_lucro_possivel = sum(df_dinheiro_empenhado[\"pot_lucro\"])\n",
    "#     print(f\"Esta alocado:{round(por_alocada,2)}%, {round(valor_alocado,3)}; e pode ganhar: {round(qnt_lucro_possivel,5)} reais\")"
   ]
  }
 ],
 "metadata": {
  "kernelspec": {
   "display_name": "Python 3",
   "language": "python",
   "name": "python3"
  },
  "language_info": {
   "codemirror_mode": {
    "name": "ipython",
    "version": 3
   },
   "file_extension": ".py",
   "mimetype": "text/x-python",
   "name": "python",
   "nbconvert_exporter": "python",
   "pygments_lexer": "ipython3",
   "version": "3.8.5"
  }
 },
 "nbformat": 4,
 "nbformat_minor": 5
}
