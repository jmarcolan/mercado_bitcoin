{
 "cells": [
  {
   "cell_type": "code",
   "execution_count": 1,
   "metadata": {},
   "outputs": [],
   "source": [
    "import sqlite3\n",
    "import pandas as pd"
   ]
  },
  {
   "cell_type": "code",
   "execution_count": 2,
   "metadata": {},
   "outputs": [],
   "source": [
    "from datetime import datetime, timedelta\n"
   ]
  },
  {
   "cell_type": "code",
   "execution_count": 3,
   "metadata": {},
   "outputs": [],
   "source": [
    "import matplotlib.pyplot as plt"
   ]
  },
  {
   "cell_type": "code",
   "execution_count": 4,
   "metadata": {},
   "outputs": [],
   "source": [
    "import plotly.graph_objects as go"
   ]
  },
  {
   "cell_type": "code",
   "execution_count": 5,
   "metadata": {},
   "outputs": [],
   "source": [
    "datetime_object = datetime.strptime('2020-10-01', \"%Y-%m-%d\")\n",
    "tm_ini = int(datetime_object.timestamp())\n",
    "coin = \"XRP\"\n",
    "csv_saida = \"saida_xrp.csv\""
   ]
  },
  {
   "cell_type": "code",
   "execution_count": null,
   "metadata": {},
   "outputs": [],
   "source": []
  },
  {
   "cell_type": "code",
   "execution_count": 6,
   "metadata": {},
   "outputs": [],
   "source": [
    "\n",
    "\n",
    "con = sqlite3.connect(\"dados_varias_coin.db\")\n",
    "\n",
    "df = pd.read_sql_query(f'SELECT * from dados_trade WHERE date > {tm_ini} AND coin==\"{coin}\";', con)\n",
    "df.head()\n",
    "\n",
    "con.close()"
   ]
  },
  {
   "cell_type": "code",
   "execution_count": null,
   "metadata": {},
   "outputs": [],
   "source": []
  },
  {
   "cell_type": "code",
   "execution_count": 7,
   "metadata": {},
   "outputs": [
    {
     "data": {
      "text/html": [
       "<div>\n",
       "<style scoped>\n",
       "    .dataframe tbody tr th:only-of-type {\n",
       "        vertical-align: middle;\n",
       "    }\n",
       "\n",
       "    .dataframe tbody tr th {\n",
       "        vertical-align: top;\n",
       "    }\n",
       "\n",
       "    .dataframe thead th {\n",
       "        text-align: right;\n",
       "    }\n",
       "</style>\n",
       "<table border=\"1\" class=\"dataframe\">\n",
       "  <thead>\n",
       "    <tr style=\"text-align: right;\">\n",
       "      <th></th>\n",
       "      <th>tid</th>\n",
       "      <th>id</th>\n",
       "      <th>coin</th>\n",
       "      <th>date</th>\n",
       "      <th>type</th>\n",
       "      <th>price</th>\n",
       "      <th>amount</th>\n",
       "      <th>Date</th>\n",
       "    </tr>\n",
       "  </thead>\n",
       "  <tbody>\n",
       "    <tr>\n",
       "      <th>873944</th>\n",
       "      <td>2001724</td>\n",
       "      <td>4192506</td>\n",
       "      <td>XRP</td>\n",
       "      <td>1612226368</td>\n",
       "      <td>sell</td>\n",
       "      <td>1.97</td>\n",
       "      <td>106.000000</td>\n",
       "      <td>2021-02-01 21:39:28</td>\n",
       "    </tr>\n",
       "    <tr>\n",
       "      <th>873945</th>\n",
       "      <td>2001725</td>\n",
       "      <td>4192507</td>\n",
       "      <td>XRP</td>\n",
       "      <td>1612226368</td>\n",
       "      <td>sell</td>\n",
       "      <td>1.97</td>\n",
       "      <td>6.263959</td>\n",
       "      <td>2021-02-01 21:39:28</td>\n",
       "    </tr>\n",
       "    <tr>\n",
       "      <th>873946</th>\n",
       "      <td>2001726</td>\n",
       "      <td>4192508</td>\n",
       "      <td>XRP</td>\n",
       "      <td>1612226368</td>\n",
       "      <td>sell</td>\n",
       "      <td>1.97</td>\n",
       "      <td>1.512690</td>\n",
       "      <td>2021-02-01 21:39:28</td>\n",
       "    </tr>\n",
       "    <tr>\n",
       "      <th>873947</th>\n",
       "      <td>2001727</td>\n",
       "      <td>4192509</td>\n",
       "      <td>XRP</td>\n",
       "      <td>1612226368</td>\n",
       "      <td>sell</td>\n",
       "      <td>1.97</td>\n",
       "      <td>3113.114652</td>\n",
       "      <td>2021-02-01 21:39:28</td>\n",
       "    </tr>\n",
       "    <tr>\n",
       "      <th>873948</th>\n",
       "      <td>2001728</td>\n",
       "      <td>4192510</td>\n",
       "      <td>XRP</td>\n",
       "      <td>1612226371</td>\n",
       "      <td>sell</td>\n",
       "      <td>1.97</td>\n",
       "      <td>4388.929123</td>\n",
       "      <td>2021-02-01 21:39:31</td>\n",
       "    </tr>\n",
       "  </tbody>\n",
       "</table>\n",
       "</div>"
      ],
      "text/plain": [
       "            tid       id coin        date  type  price       amount  \\\n",
       "873944  2001724  4192506  XRP  1612226368  sell   1.97   106.000000   \n",
       "873945  2001725  4192507  XRP  1612226368  sell   1.97     6.263959   \n",
       "873946  2001726  4192508  XRP  1612226368  sell   1.97     1.512690   \n",
       "873947  2001727  4192509  XRP  1612226368  sell   1.97  3113.114652   \n",
       "873948  2001728  4192510  XRP  1612226371  sell   1.97  4388.929123   \n",
       "\n",
       "                      Date  \n",
       "873944 2021-02-01 21:39:28  \n",
       "873945 2021-02-01 21:39:28  \n",
       "873946 2021-02-01 21:39:28  \n",
       "873947 2021-02-01 21:39:28  \n",
       "873948 2021-02-01 21:39:31  "
      ]
     },
     "execution_count": 7,
     "metadata": {},
     "output_type": "execute_result"
    }
   ],
   "source": [
    "df[\"Date\"] =df['date'].map(datetime.fromtimestamp)\n",
    "df.tail()"
   ]
  },
  {
   "cell_type": "code",
   "execution_count": null,
   "metadata": {},
   "outputs": [],
   "source": []
  },
  {
   "cell_type": "code",
   "execution_count": null,
   "metadata": {},
   "outputs": [],
   "source": []
  },
  {
   "cell_type": "code",
   "execution_count": 8,
   "metadata": {},
   "outputs": [],
   "source": [
    "# index = pd.date_range(start=f'{d_start.day}/{d_start.month}/{d_start.year}', end=d_fim, freq=\"5min\")\n",
    "def gera_index_candle(df, timer=5):\n",
    "    d_start = df[\"Date\"].iloc[0]\n",
    "    d_fim = df[\"Date\"].iloc[-1]\n",
    "    \n",
    "    d_start_shift = d_start + timedelta(minutes=timer)\n",
    "    d_fim_shift = d_fim + timedelta(minutes=timer) \n",
    "    \n",
    "    index = pd.date_range(start=d_start, end=d_fim, freq=f'{timer}min')\n",
    "    index_shift = pd.date_range(start=d_start_shift, end=d_fim_shift, freq=f'{timer}min')\n",
    "    return index, index_shift"
   ]
  },
  {
   "cell_type": "code",
   "execution_count": 9,
   "metadata": {},
   "outputs": [],
   "source": [
    "def filter_dic_vaziu(dict_gerado):\n",
    "    r_dict_vaziu = not bool(dict_gerado)\n",
    "    return not r_dict_vaziu"
   ]
  },
  {
   "cell_type": "code",
   "execution_count": 10,
   "metadata": {},
   "outputs": [],
   "source": [
    "def calcula_candle(df, d_inicio, d_fim):\n",
    "    r_inicio= df[\"Date\"] > d_inicio\n",
    "    r_fim = df[\"Date\"] < d_fim\n",
    "\n",
    "    df_candle = df[(r_inicio & r_fim)]\n",
    "    r_encontrou = len(df_candle) != 0\n",
    "    if r_encontrou:\n",
    "        candle= {}\n",
    "        candle[\"date\"] = d_inicio\n",
    "        candle[\"fim\"] = d_fim\n",
    "        candle[\"open\"] = df_candle[\"price\"].iloc[0]\n",
    "        candle[\"close\"] = df_candle[\"price\"].iloc[-1]\n",
    "        candle[\"volume\"] = df_candle[\"amount\"].sum()\n",
    "        candle[\"high\"]= df_candle[\"price\"].max()\n",
    "        candle[\"low\"] = df_candle[\"price\"].min()\n",
    "        return candle\n",
    "    else:\n",
    "        return {}\n",
    "    \n",
    "#     print(cand_open, cand_close, cand_volume, cand_max, cand_min)\n",
    "    \n",
    "    "
   ]
  },
  {
   "cell_type": "code",
   "execution_count": 11,
   "metadata": {},
   "outputs": [],
   "source": [
    "def gera_pandas(df):\n",
    "    index, index_shift = gera_index_candle(df)\n",
    "    index_g = zip(index, index_shift)\n",
    "\n",
    "    ls_candle = []\n",
    "    for t in index_g:\n",
    "        ls_candle.append(calcula_candle(df, t[0], t[1]))\n",
    "        \n",
    "    ls_saida = list(filter(filter_dic_vaziu, ls_candle))\n",
    "    df_saida = pd.DataFrame(ls_saida)\n",
    "    return df_saida"
   ]
  },
  {
   "cell_type": "code",
   "execution_count": 12,
   "metadata": {},
   "outputs": [],
   "source": [
    "df_open = gera_pandas(df)"
   ]
  },
  {
   "cell_type": "code",
   "execution_count": 13,
   "metadata": {},
   "outputs": [],
   "source": [
    "# df_open\n",
    "\n",
    "\n",
    "# print(calcula_candle(df, index[1000],index[1001]))\n",
    "# print(calcula_candle(df, index[100],index[101]))"
   ]
  },
  {
   "cell_type": "code",
   "execution_count": null,
   "metadata": {},
   "outputs": [],
   "source": []
  },
  {
   "cell_type": "code",
   "execution_count": 14,
   "metadata": {},
   "outputs": [],
   "source": [
    "df_open.set_index('date', inplace=True)"
   ]
  },
  {
   "cell_type": "code",
   "execution_count": 15,
   "metadata": {},
   "outputs": [],
   "source": [
    "df_open.to_csv(csv_saida)"
   ]
  },
  {
   "cell_type": "code",
   "execution_count": null,
   "metadata": {},
   "outputs": [],
   "source": []
  },
  {
   "cell_type": "code",
   "execution_count": 16,
   "metadata": {},
   "outputs": [],
   "source": [
    "import mplfinance as mpf"
   ]
  },
  {
   "cell_type": "code",
   "execution_count": 17,
   "metadata": {},
   "outputs": [
    {
     "data": {
      "image/png": "[encoded data removed]",
      "text/plain": [
       "<Figure size 800x575 with 4 Axes>"
      ]
     },
     "metadata": {},
     "output_type": "display_data"
    }
   ],
   "source": [
    "\n",
    "mpf.plot(df_open,type='candle',volume=True)"
   ]
  },
  {
   "cell_type": "code",
   "execution_count": 18,
   "metadata": {},
   "outputs": [],
   "source": [
    "# https://github.com/wilsonfreitas/awesome-quant"
   ]
  },
  {
   "cell_type": "code",
   "execution_count": 19,
   "metadata": {},
   "outputs": [],
   "source": [
    "# def momentum(serie_can_open,n):\n",
    "#     final = serie_can_open.iloc[-1]\n",
    "#     inicio = serie_can_open.iloc[-n]\n",
    "#     mo = final- inicio\n",
    "#     return mo"
   ]
  },
  {
   "cell_type": "code",
   "execution_count": 20,
   "metadata": {},
   "outputs": [],
   "source": [
    "# momentum(df_open[\"Close\"],10)"
   ]
  },
  {
   "cell_type": "code",
   "execution_count": 21,
   "metadata": {},
   "outputs": [],
   "source": [
    "# def get_momentum_movel_lista(series_sc, n):\n",
    "# #     series_sc = df_open[\"Close\"]\n",
    "# #     n=9\n",
    "#     tamnho_lista = len(series_sc)\n",
    "#     ls_saida = []\n",
    "#     for i in range(tamnho_lista):\n",
    "#         r_valido = (tamnho_lista - i - n) > 0\n",
    "#         if r_valido:\n",
    "#     #             print(r_valido)\n",
    "#             next_lista = series_sc.iloc[:-i-1]\n",
    "# #             print(i)\n",
    "#             ls_saida.append(momentum(next_lista,n))\n",
    "\n",
    "#     return pd.Series(ls_saida,name=f'mometum_{n}')\n",
    "\n",
    "        \n",
    "    \n",
    "    "
   ]
  },
  {
   "cell_type": "code",
   "execution_count": 22,
   "metadata": {},
   "outputs": [],
   "source": [
    "# series_sc.iloc[:-7983]"
   ]
  },
  {
   "cell_type": "code",
   "execution_count": 23,
   "metadata": {},
   "outputs": [],
   "source": [
    "# df_open[\"momentum\"] = get_momentum_movel_lista(df_open[\"Close\"],10)"
   ]
  },
  {
   "cell_type": "code",
   "execution_count": 24,
   "metadata": {},
   "outputs": [],
   "source": [
    "# df_open"
   ]
  },
  {
   "cell_type": "code",
   "execution_count": 25,
   "metadata": {},
   "outputs": [],
   "source": [
    "# https://proeducacional.com/ead/curso-cga-modulo-i/capitulos/capitulo-4/aulas/medias-moveis-simples-e-exponencial-cruzamento-bandas-de-bollinger/\n",
    "# def media_exponencia(serie_candle_open, n, alpha=1):\n",
    "# #     alpha = 2/(n+1)\n",
    "# #     alpha = 1\n",
    "#     def cr_map(entrada):\n",
    "#         x= float(entrada[0])\n",
    "#         i= entrada[1]\n",
    "#         const = (1- alpha)**i\n",
    "#         saida= const* x\n",
    "#         return saida\n",
    "        \n",
    "#     ult_n = serie_candle_open.iloc[-n:]\n",
    "#     zip_dados = zip(ult_n, list(range(n)))\n",
    "#     saida = pd.Series(list(map(cr_map, zip_dados)), name=\"Open\").sum()\n",
    "#     return saida\n",
    "    \n",
    "    \n",
    "    \n",
    "    "
   ]
  },
  {
   "cell_type": "code",
   "execution_count": 26,
   "metadata": {},
   "outputs": [],
   "source": [
    "# media_exponencia(df_open[\"Close\"], 10)"
   ]
  },
  {
   "cell_type": "code",
   "execution_count": 27,
   "metadata": {},
   "outputs": [],
   "source": [
    "# s_entra = df_open[\"Close\"]\n",
    "# print(media_exponencia(s_entra.iloc[:-1], 10))\n",
    "# print(media_exponencia(s_entra.iloc[:-2], 10))\n",
    "# print(media_exponencia(s_entra.iloc[:-3], 10))\n",
    "# print(media_exponencia(s_entra.iloc[:-4], 10))\n"
   ]
  },
  {
   "cell_type": "code",
   "execution_count": null,
   "metadata": {},
   "outputs": [],
   "source": []
  },
  {
   "cell_type": "code",
   "execution_count": 28,
   "metadata": {},
   "outputs": [],
   "source": [
    "# def macd(s_candle_op, periodo=9, n_inicial=12, n_final=26):\n",
    "#     ls_saida = []\n",
    "#     for i in range(periodo):\n",
    "#         next_list = s_candle_op.iloc[:-i]\n",
    "        \n",
    "#         l_ema_inicial = media_exponencia(next_list, n_inicial)\n",
    "#         l_ema_final = media_exponencia(next_list, n_final)\n",
    "#         l_saida = l_ema_final - l_ema_inicial\n",
    "        \n",
    "#         ls_saida.append(l_saida)\n",
    "    \n",
    "#     saida_macd = media_exponencia(pd.Series(ls_saida), periodo)\n",
    "#     return saida_macd\n",
    "\n"
   ]
  },
  {
   "cell_type": "code",
   "execution_count": 29,
   "metadata": {},
   "outputs": [],
   "source": [
    "# macd(df_open[\"Close\"])"
   ]
  },
  {
   "cell_type": "code",
   "execution_count": null,
   "metadata": {},
   "outputs": [],
   "source": []
  },
  {
   "cell_type": "code",
   "execution_count": 30,
   "metadata": {},
   "outputs": [],
   "source": [
    "# df_open[\"Close\"].iloc[-1]"
   ]
  },
  {
   "cell_type": "code",
   "execution_count": 31,
   "metadata": {},
   "outputs": [],
   "source": [
    "# periodo = 9\n",
    "# i = 5\n",
    "# df_open[\"Close\"].iloc[-periodo-i:-i]"
   ]
  },
  {
   "cell_type": "code",
   "execution_count": 32,
   "metadata": {},
   "outputs": [],
   "source": [
    "# series"
   ]
  },
  {
   "cell_type": "code",
   "execution_count": 33,
   "metadata": {},
   "outputs": [],
   "source": [
    "# df['price'].resample('15Min')"
   ]
  },
  {
   "cell_type": "code",
   "execution_count": 34,
   "metadata": {},
   "outputs": [],
   "source": [
    "# from finta import TA"
   ]
  },
  {
   "cell_type": "code",
   "execution_count": 35,
   "metadata": {},
   "outputs": [],
   "source": [
    "# TA.SMA(df_open, 42)"
   ]
  },
  {
   "cell_type": "code",
   "execution_count": null,
   "metadata": {},
   "outputs": [],
   "source": []
  },
  {
   "cell_type": "code",
   "execution_count": 36,
   "metadata": {},
   "outputs": [],
   "source": [
    "# a = df[\"time_d\"][0]"
   ]
  },
  {
   "cell_type": "code",
   "execution_count": 37,
   "metadata": {},
   "outputs": [],
   "source": [
    "# print(a.timestamp())"
   ]
  }
 ],
 "metadata": {
  "kernelspec": {
   "display_name": "Python 3",
   "language": "python",
   "name": "python3"
  },
  "language_info": {
   "codemirror_mode": {
    "name": "ipython",
    "version": 3
   },
   "file_extension": ".py",
   "mimetype": "text/x-python",
   "name": "python",
   "nbconvert_exporter": "python",
   "pygments_lexer": "ipython3",
   "version": "3.6.12"
  }
 },
 "nbformat": 4,
 "nbformat_minor": 4
}
