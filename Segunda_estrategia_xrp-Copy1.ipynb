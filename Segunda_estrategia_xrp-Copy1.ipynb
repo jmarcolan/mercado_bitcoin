{
 "cells": [
  {
   "cell_type": "code",
   "execution_count": 1,
   "id": "handled-jimmy",
   "metadata": {},
   "outputs": [],
   "source": [
    "import pandas as pd\n",
    "import matplotlib.pyplot as plt\n",
    "from datetime import datetime, timedelta\n",
    "import mplfinance as mpf\n",
    "from finta import TA\n"
   ]
  },
  {
   "cell_type": "code",
   "execution_count": 2,
   "id": "handed-formula",
   "metadata": {},
   "outputs": [],
   "source": [
    "import estrategias as es\n",
    "import work as wk"
   ]
  },
  {
   "cell_type": "markdown",
   "id": "going-constraint",
   "metadata": {},
   "source": [
    "# LOAD DATA-"
   ]
  },
  {
   "cell_type": "code",
   "execution_count": 3,
   "id": "naval-traveler",
   "metadata": {},
   "outputs": [],
   "source": [
    "def map_strin_date(x):\n",
    "    return datetime.strptime(x, \"%Y-%m-%d %H:%M:%S\")\n"
   ]
  },
  {
   "cell_type": "code",
   "execution_count": 4,
   "id": "still-rehabilitation",
   "metadata": {},
   "outputs": [
    {
     "data": {
      "text/html": [
       "<div>\n",
       "<style scoped>\n",
       "    .dataframe tbody tr th:only-of-type {\n",
       "        vertical-align: middle;\n",
       "    }\n",
       "\n",
       "    .dataframe tbody tr th {\n",
       "        vertical-align: top;\n",
       "    }\n",
       "\n",
       "    .dataframe thead th {\n",
       "        text-align: right;\n",
       "    }\n",
       "</style>\n",
       "<table border=\"1\" class=\"dataframe\">\n",
       "  <thead>\n",
       "    <tr style=\"text-align: right;\">\n",
       "      <th></th>\n",
       "      <th>date</th>\n",
       "      <th>fim</th>\n",
       "      <th>open</th>\n",
       "      <th>close</th>\n",
       "      <th>volume</th>\n",
       "      <th>high</th>\n",
       "      <th>low</th>\n",
       "    </tr>\n",
       "  </thead>\n",
       "  <tbody>\n",
       "    <tr>\n",
       "      <th>0</th>\n",
       "      <td>2020-10-01 00:28:59</td>\n",
       "      <td>2020-10-01 00:33:59</td>\n",
       "      <td>1.36278</td>\n",
       "      <td>1.36278</td>\n",
       "      <td>8.000000</td>\n",
       "      <td>1.36278</td>\n",
       "      <td>1.36278</td>\n",
       "    </tr>\n",
       "    <tr>\n",
       "      <th>1</th>\n",
       "      <td>2020-10-01 00:43:59</td>\n",
       "      <td>2020-10-01 00:48:59</td>\n",
       "      <td>1.36361</td>\n",
       "      <td>1.36361</td>\n",
       "      <td>49.000000</td>\n",
       "      <td>1.36361</td>\n",
       "      <td>1.36361</td>\n",
       "    </tr>\n",
       "    <tr>\n",
       "      <th>2</th>\n",
       "      <td>2020-10-01 00:53:59</td>\n",
       "      <td>2020-10-01 00:58:59</td>\n",
       "      <td>1.36844</td>\n",
       "      <td>1.35750</td>\n",
       "      <td>4260.364038</td>\n",
       "      <td>1.36844</td>\n",
       "      <td>1.35750</td>\n",
       "    </tr>\n",
       "    <tr>\n",
       "      <th>3</th>\n",
       "      <td>2020-10-01 01:03:59</td>\n",
       "      <td>2020-10-01 01:08:59</td>\n",
       "      <td>1.36000</td>\n",
       "      <td>1.36000</td>\n",
       "      <td>2.000000</td>\n",
       "      <td>1.36000</td>\n",
       "      <td>1.36000</td>\n",
       "    </tr>\n",
       "    <tr>\n",
       "      <th>4</th>\n",
       "      <td>2020-10-01 01:08:59</td>\n",
       "      <td>2020-10-01 01:13:59</td>\n",
       "      <td>1.36000</td>\n",
       "      <td>1.36000</td>\n",
       "      <td>1.000000</td>\n",
       "      <td>1.36000</td>\n",
       "      <td>1.36000</td>\n",
       "    </tr>\n",
       "  </tbody>\n",
       "</table>\n",
       "</div>"
      ],
      "text/plain": [
       "                  date                  fim     open    close       volume  \\\n",
       "0  2020-10-01 00:28:59  2020-10-01 00:33:59  1.36278  1.36278     8.000000   \n",
       "1  2020-10-01 00:43:59  2020-10-01 00:48:59  1.36361  1.36361    49.000000   \n",
       "2  2020-10-01 00:53:59  2020-10-01 00:58:59  1.36844  1.35750  4260.364038   \n",
       "3  2020-10-01 01:03:59  2020-10-01 01:08:59  1.36000  1.36000     2.000000   \n",
       "4  2020-10-01 01:08:59  2020-10-01 01:13:59  1.36000  1.36000     1.000000   \n",
       "\n",
       "      high      low  \n",
       "0  1.36278  1.36278  \n",
       "1  1.36361  1.36361  \n",
       "2  1.36844  1.35750  \n",
       "3  1.36000  1.36000  \n",
       "4  1.36000  1.36000  "
      ]
     },
     "execution_count": 4,
     "metadata": {},
     "output_type": "execute_result"
    }
   ],
   "source": [
    "df_criado = pd.read_csv(\"saida_xrp.csv\")\n",
    "df_criado.head()"
   ]
  },
  {
   "cell_type": "code",
   "execution_count": 5,
   "id": "transparent-expansion",
   "metadata": {},
   "outputs": [],
   "source": [
    "df_criado[\"date\"] = df_criado[\"date\"].map(map_strin_date)"
   ]
  },
  {
   "cell_type": "code",
   "execution_count": null,
   "id": "architectural-church",
   "metadata": {},
   "outputs": [],
   "source": []
  },
  {
   "cell_type": "code",
   "execution_count": 6,
   "id": "correct-walter",
   "metadata": {},
   "outputs": [
    {
     "data": {
      "text/html": [
       "<div>\n",
       "<style scoped>\n",
       "    .dataframe tbody tr th:only-of-type {\n",
       "        vertical-align: middle;\n",
       "    }\n",
       "\n",
       "    .dataframe tbody tr th {\n",
       "        vertical-align: top;\n",
       "    }\n",
       "\n",
       "    .dataframe thead th {\n",
       "        text-align: right;\n",
       "    }\n",
       "</style>\n",
       "<table border=\"1\" class=\"dataframe\">\n",
       "  <thead>\n",
       "    <tr style=\"text-align: right;\">\n",
       "      <th></th>\n",
       "      <th>fim</th>\n",
       "      <th>open</th>\n",
       "      <th>close</th>\n",
       "      <th>volume</th>\n",
       "      <th>high</th>\n",
       "      <th>low</th>\n",
       "    </tr>\n",
       "    <tr>\n",
       "      <th>date</th>\n",
       "      <th></th>\n",
       "      <th></th>\n",
       "      <th></th>\n",
       "      <th></th>\n",
       "      <th></th>\n",
       "      <th></th>\n",
       "    </tr>\n",
       "  </thead>\n",
       "  <tbody>\n",
       "    <tr>\n",
       "      <th>2020-10-01 00:28:59</th>\n",
       "      <td>2020-10-01 00:33:59</td>\n",
       "      <td>1.36278</td>\n",
       "      <td>1.36278</td>\n",
       "      <td>8.000000</td>\n",
       "      <td>1.36278</td>\n",
       "      <td>1.36278</td>\n",
       "    </tr>\n",
       "    <tr>\n",
       "      <th>2020-10-01 00:43:59</th>\n",
       "      <td>2020-10-01 00:48:59</td>\n",
       "      <td>1.36361</td>\n",
       "      <td>1.36361</td>\n",
       "      <td>49.000000</td>\n",
       "      <td>1.36361</td>\n",
       "      <td>1.36361</td>\n",
       "    </tr>\n",
       "    <tr>\n",
       "      <th>2020-10-01 00:53:59</th>\n",
       "      <td>2020-10-01 00:58:59</td>\n",
       "      <td>1.36844</td>\n",
       "      <td>1.35750</td>\n",
       "      <td>4260.364038</td>\n",
       "      <td>1.36844</td>\n",
       "      <td>1.35750</td>\n",
       "    </tr>\n",
       "    <tr>\n",
       "      <th>2020-10-01 01:03:59</th>\n",
       "      <td>2020-10-01 01:08:59</td>\n",
       "      <td>1.36000</td>\n",
       "      <td>1.36000</td>\n",
       "      <td>2.000000</td>\n",
       "      <td>1.36000</td>\n",
       "      <td>1.36000</td>\n",
       "    </tr>\n",
       "    <tr>\n",
       "      <th>2020-10-01 01:08:59</th>\n",
       "      <td>2020-10-01 01:13:59</td>\n",
       "      <td>1.36000</td>\n",
       "      <td>1.36000</td>\n",
       "      <td>1.000000</td>\n",
       "      <td>1.36000</td>\n",
       "      <td>1.36000</td>\n",
       "    </tr>\n",
       "  </tbody>\n",
       "</table>\n",
       "</div>"
      ],
      "text/plain": [
       "                                     fim     open    close       volume  \\\n",
       "date                                                                      \n",
       "2020-10-01 00:28:59  2020-10-01 00:33:59  1.36278  1.36278     8.000000   \n",
       "2020-10-01 00:43:59  2020-10-01 00:48:59  1.36361  1.36361    49.000000   \n",
       "2020-10-01 00:53:59  2020-10-01 00:58:59  1.36844  1.35750  4260.364038   \n",
       "2020-10-01 01:03:59  2020-10-01 01:08:59  1.36000  1.36000     2.000000   \n",
       "2020-10-01 01:08:59  2020-10-01 01:13:59  1.36000  1.36000     1.000000   \n",
       "\n",
       "                        high      low  \n",
       "date                                   \n",
       "2020-10-01 00:28:59  1.36278  1.36278  \n",
       "2020-10-01 00:43:59  1.36361  1.36361  \n",
       "2020-10-01 00:53:59  1.36844  1.35750  \n",
       "2020-10-01 01:03:59  1.36000  1.36000  \n",
       "2020-10-01 01:08:59  1.36000  1.36000  "
      ]
     },
     "execution_count": 6,
     "metadata": {},
     "output_type": "execute_result"
    }
   ],
   "source": [
    "df_criado.set_index('date', inplace=True)\n",
    "df_criado.head()"
   ]
  },
  {
   "cell_type": "markdown",
   "id": "duplicate-disaster",
   "metadata": {},
   "source": [
    "# Construindo a estrategia"
   ]
  },
  {
   "cell_type": "code",
   "execution_count": 7,
   "id": "ecological-bread",
   "metadata": {},
   "outputs": [],
   "source": [
    "## pre processando e construindo descritores"
   ]
  },
  {
   "cell_type": "code",
   "execution_count": 8,
   "id": "proprietary-sullivan",
   "metadata": {},
   "outputs": [
    {
     "data": {
      "text/html": [
       "<div>\n",
       "<style scoped>\n",
       "    .dataframe tbody tr th:only-of-type {\n",
       "        vertical-align: middle;\n",
       "    }\n",
       "\n",
       "    .dataframe tbody tr th {\n",
       "        vertical-align: top;\n",
       "    }\n",
       "\n",
       "    .dataframe thead th {\n",
       "        text-align: right;\n",
       "    }\n",
       "</style>\n",
       "<table border=\"1\" class=\"dataframe\">\n",
       "  <thead>\n",
       "    <tr style=\"text-align: right;\">\n",
       "      <th></th>\n",
       "      <th>fim</th>\n",
       "      <th>open</th>\n",
       "      <th>close</th>\n",
       "      <th>volume</th>\n",
       "      <th>high</th>\n",
       "      <th>low</th>\n",
       "      <th>ema_30</th>\n",
       "      <th>ema_100</th>\n",
       "      <th>ema_300</th>\n",
       "      <th>ema_1200</th>\n",
       "      <th>BB_UPPER</th>\n",
       "      <th>BB_LOWER</th>\n",
       "      <th>distancia_BB</th>\n",
       "      <th>normaliza</th>\n",
       "    </tr>\n",
       "    <tr>\n",
       "      <th>date</th>\n",
       "      <th></th>\n",
       "      <th></th>\n",
       "      <th></th>\n",
       "      <th></th>\n",
       "      <th></th>\n",
       "      <th></th>\n",
       "      <th></th>\n",
       "      <th></th>\n",
       "      <th></th>\n",
       "      <th></th>\n",
       "      <th></th>\n",
       "      <th></th>\n",
       "      <th></th>\n",
       "      <th></th>\n",
       "    </tr>\n",
       "  </thead>\n",
       "  <tbody>\n",
       "    <tr>\n",
       "      <th>2020-10-01 00:28:59</th>\n",
       "      <td>2020-10-01 00:33:59</td>\n",
       "      <td>1.36278</td>\n",
       "      <td>1.36278</td>\n",
       "      <td>8.000000</td>\n",
       "      <td>1.36278</td>\n",
       "      <td>1.36278</td>\n",
       "      <td>1.362780</td>\n",
       "      <td>1.362780</td>\n",
       "      <td>1.362780</td>\n",
       "      <td>1.362780</td>\n",
       "      <td>NaN</td>\n",
       "      <td>NaN</td>\n",
       "      <td>NaN</td>\n",
       "      <td>0.000000</td>\n",
       "    </tr>\n",
       "    <tr>\n",
       "      <th>2020-10-01 00:43:59</th>\n",
       "      <td>2020-10-01 00:48:59</td>\n",
       "      <td>1.36361</td>\n",
       "      <td>1.36361</td>\n",
       "      <td>49.000000</td>\n",
       "      <td>1.36361</td>\n",
       "      <td>1.36361</td>\n",
       "      <td>1.363209</td>\n",
       "      <td>1.363199</td>\n",
       "      <td>1.363196</td>\n",
       "      <td>1.363195</td>\n",
       "      <td>NaN</td>\n",
       "      <td>NaN</td>\n",
       "      <td>NaN</td>\n",
       "      <td>0.000415</td>\n",
       "    </tr>\n",
       "    <tr>\n",
       "      <th>2020-10-01 00:53:59</th>\n",
       "      <td>2020-10-01 00:58:59</td>\n",
       "      <td>1.36844</td>\n",
       "      <td>1.35750</td>\n",
       "      <td>4260.364038</td>\n",
       "      <td>1.36844</td>\n",
       "      <td>1.35750</td>\n",
       "      <td>1.361178</td>\n",
       "      <td>1.361261</td>\n",
       "      <td>1.361288</td>\n",
       "      <td>1.361294</td>\n",
       "      <td>NaN</td>\n",
       "      <td>NaN</td>\n",
       "      <td>NaN</td>\n",
       "      <td>-0.003794</td>\n",
       "    </tr>\n",
       "    <tr>\n",
       "      <th>2020-10-01 01:03:59</th>\n",
       "      <td>2020-10-01 01:08:59</td>\n",
       "      <td>1.36000</td>\n",
       "      <td>1.36000</td>\n",
       "      <td>2.000000</td>\n",
       "      <td>1.36000</td>\n",
       "      <td>1.36000</td>\n",
       "      <td>1.360853</td>\n",
       "      <td>1.360936</td>\n",
       "      <td>1.360963</td>\n",
       "      <td>1.360969</td>\n",
       "      <td>NaN</td>\n",
       "      <td>NaN</td>\n",
       "      <td>NaN</td>\n",
       "      <td>-0.000969</td>\n",
       "    </tr>\n",
       "    <tr>\n",
       "      <th>2020-10-01 01:08:59</th>\n",
       "      <td>2020-10-01 01:13:59</td>\n",
       "      <td>1.36000</td>\n",
       "      <td>1.36000</td>\n",
       "      <td>1.000000</td>\n",
       "      <td>1.36000</td>\n",
       "      <td>1.36000</td>\n",
       "      <td>1.360659</td>\n",
       "      <td>1.360742</td>\n",
       "      <td>1.360769</td>\n",
       "      <td>1.360775</td>\n",
       "      <td>NaN</td>\n",
       "      <td>NaN</td>\n",
       "      <td>NaN</td>\n",
       "      <td>-0.000775</td>\n",
       "    </tr>\n",
       "  </tbody>\n",
       "</table>\n",
       "</div>"
      ],
      "text/plain": [
       "                                     fim     open    close       volume  \\\n",
       "date                                                                      \n",
       "2020-10-01 00:28:59  2020-10-01 00:33:59  1.36278  1.36278     8.000000   \n",
       "2020-10-01 00:43:59  2020-10-01 00:48:59  1.36361  1.36361    49.000000   \n",
       "2020-10-01 00:53:59  2020-10-01 00:58:59  1.36844  1.35750  4260.364038   \n",
       "2020-10-01 01:03:59  2020-10-01 01:08:59  1.36000  1.36000     2.000000   \n",
       "2020-10-01 01:08:59  2020-10-01 01:13:59  1.36000  1.36000     1.000000   \n",
       "\n",
       "                        high      low    ema_30   ema_100   ema_300  ema_1200  \\\n",
       "date                                                                            \n",
       "2020-10-01 00:28:59  1.36278  1.36278  1.362780  1.362780  1.362780  1.362780   \n",
       "2020-10-01 00:43:59  1.36361  1.36361  1.363209  1.363199  1.363196  1.363195   \n",
       "2020-10-01 00:53:59  1.36844  1.35750  1.361178  1.361261  1.361288  1.361294   \n",
       "2020-10-01 01:03:59  1.36000  1.36000  1.360853  1.360936  1.360963  1.360969   \n",
       "2020-10-01 01:08:59  1.36000  1.36000  1.360659  1.360742  1.360769  1.360775   \n",
       "\n",
       "                     BB_UPPER  BB_LOWER  distancia_BB  normaliza  \n",
       "date                                                              \n",
       "2020-10-01 00:28:59       NaN       NaN           NaN   0.000000  \n",
       "2020-10-01 00:43:59       NaN       NaN           NaN   0.000415  \n",
       "2020-10-01 00:53:59       NaN       NaN           NaN  -0.003794  \n",
       "2020-10-01 01:03:59       NaN       NaN           NaN  -0.000969  \n",
       "2020-10-01 01:08:59       NaN       NaN           NaN  -0.000775  "
      ]
     },
     "execution_count": 8,
     "metadata": {},
     "output_type": "execute_result"
    }
   ],
   "source": [
    "df_criado[\"ema_30\"] =  TA.EMA(df_criado, 30)\n",
    "df_criado[\"ema_100\"] =  TA.EMA(df_criado, 100)\n",
    "df_criado[\"ema_300\"] =  TA.EMA(df_criado, 400)\n",
    "df_criado[\"ema_1200\"] =  TA.EMA(df_criado, 1200)\n",
    "saida_BB =  TA.BBANDS(df_criado)\n",
    "df_criado[\"BB_UPPER\"] =  saida_BB[\"BB_UPPER\"]\n",
    "df_criado[\"BB_LOWER\"] =  saida_BB[\"BB_LOWER\"]\n",
    "df_criado[\"distancia_BB\"] = saida_BB[\"BB_UPPER\"] - saida_BB[\"BB_LOWER\"]\n",
    "df_criado[\"normaliza\"] = df_criado[\"close\"] - df_criado[\"ema_1200\"]\n",
    "# df_criado[\"r_compra\"], df_criado[\"r_venda\"], df_criado[\"libera_trade\"] = calcula_r_compra_venda(df_criado)\n",
    "df_criado.head()"
   ]
  },
  {
   "cell_type": "code",
   "execution_count": null,
   "id": "material-floating",
   "metadata": {},
   "outputs": [],
   "source": []
  },
  {
   "cell_type": "code",
   "execution_count": null,
   "id": "overhead-cologne",
   "metadata": {},
   "outputs": [],
   "source": []
  },
  {
   "cell_type": "markdown",
   "id": "jewish-boards",
   "metadata": {},
   "source": [
    "# Visualizando os dados"
   ]
  },
  {
   "cell_type": "code",
   "execution_count": 9,
   "id": "characteristic-medline",
   "metadata": {},
   "outputs": [
    {
     "data": {
      "image/png": "[encoded data removed]",
      "text/plain": [
       "<Figure size 1332x1116 with 1 Axes>"
      ]
     },
     "metadata": {
      "needs_background": "light"
     },
     "output_type": "display_data"
    }
   ],
   "source": [
    "# quant = 100\n",
    "# gap = 9000 + quant\n",
    "inicio = 10000\n",
    "fim = 15000 + inicio\n",
    "\n",
    "\n",
    "# df_bb_uper_n  = saida_BB[\"BB_UPPER\"] \n",
    "# df_bb_lower_n = saida_BB[\"BB_LOWER\"] \n",
    "\n",
    "\n",
    "fig, ax = plt.subplots(1,1)\n",
    "fig.set_size_inches(18.5, 15.5)\n",
    "\n",
    "\n",
    "ax.plot(df_criado[\"close\"][-fim:-inicio],label='Close')\n",
    "# ax[0].plot(df_criado[\"ema_30\"][-fim:-inicio],label='30')\n",
    "# ax[0].plot(df_criado[\"ema_100\"][-fim:-inicio],label='100')\n",
    "# ax[0].plot(df_criado[\"ema_300\"][-fim:-inicio],label='300')\n",
    "# ax[0].plot(df_criado[\"ema_1200\"][-fim:-inicio],label='1200')\n",
    "# ax[0].plot(df_criado[\"BB_UPPER\"][-fim:-inicio], label =\"boiler\")\n",
    "# ax[0].plot(df_criado[\"BB_LOWER\"][-fim:-inicio], label =\"boiler\")\n",
    "\n",
    "# ax[0].legend()\n",
    "\n",
    "# ax[1].plot(df_criado[\"normaliza\"][-fim:-inicio],label='dif_300')\n",
    "# ax[2].plot(df_criado[\"r_compra\"][-fim:-inicio], label=\"compra\")\n",
    "# ax[2].plot( df_criado[\"r_venda\"][-fim:-inicio], label=\"venda\")\n",
    "# # ax[2].plot(r_liberado_operacao[-fim:-inicio], label=\"indeciso\")\n",
    "# ax[3].plot(df_criado[\"distancia_BB\"][-fim:-inicio], label=\"venda\")\n",
    "# ax[2].legend()\n",
    "plt.savefig(\"oi.jpg\")\n",
    "plt.show()"
   ]
  },
  {
   "cell_type": "code",
   "execution_count": null,
   "id": "mathematical-configuration",
   "metadata": {},
   "outputs": [],
   "source": []
  },
  {
   "cell_type": "markdown",
   "id": "dedicated-input",
   "metadata": {},
   "source": [
    "\n",
    "# Estrategia\n",
    " - quando estiver em compra e liberado o objetivo é ficar com  90%- 10% da conta em btc e isso deve ocorrer no menor valor\n",
    "- quando estiver em venda e liberado o objetivo é ficar com 10%-90% da conta em btc  e isso deve ocorrer no maior valor\n",
    "-tem que vender acida do valor médio da compra\n"
   ]
  },
  {
   "cell_type": "code",
   "execution_count": null,
   "id": "temporal-tournament",
   "metadata": {},
   "outputs": [],
   "source": []
  },
  {
   "cell_type": "code",
   "execution_count": 101,
   "id": "american-arabic",
   "metadata": {},
   "outputs": [],
   "source": [
    "df_inicial = es.import_pandas_from_csv(\"saida_xrp.csv\")\n",
    "m1 = wk.Mercador_back_test_grid(100, 0.06) #0.3 centavos\n",
    "df_criado = es.estrategia_grid(df_inicial, 0.06, 1 , 4)\n",
    "m1 = es.back_test_grid(df_inicial, m1, df_criado)"
   ]
  },
  {
   "cell_type": "code",
   "execution_count": 102,
   "id": "thirty-amateur",
   "metadata": {},
   "outputs": [
    {
     "data": {
      "text/plain": [
       "<matplotlib.collections.PathCollection at 0x28181a34c88>"
      ]
     },
     "execution_count": 102,
     "metadata": {},
     "output_type": "execute_result"
    },
    {
     "data": {
      "image/png": "[encoded data removed]",
      "text/plain": [
       "<Figure size 1332x1116 with 1 Axes>"
      ]
     },
     "metadata": {
      "needs_background": "light"
     },
     "output_type": "display_data"
    }
   ],
   "source": [
    "inicio = 1\n",
    "fim = 800 + inicio\n",
    "\n",
    "fig, ax = plt.subplots(1,1)\n",
    "fig.set_size_inches(18.5, 15.5)\n",
    "\n",
    "df_selecao_gatilho = df_criado.where(df_criado[\"aciona\"]==True).dropna()\n",
    "plt.scatter(df_selecao_gatilho.index[-fim:-inicio],df_selecao_gatilho[\"close\"][-fim:-inicio])"
   ]
  },
  {
   "cell_type": "code",
   "execution_count": 103,
   "id": "operating-healing",
   "metadata": {},
   "outputs": [
    {
     "data": {
      "text/plain": [
       "<matplotlib.collections.PathCollection at 0x28182c55a58>"
      ]
     },
     "execution_count": 103,
     "metadata": {},
     "output_type": "execute_result"
    },
    {
     "data": {
      "image/png": "[encoded data removed]",
      "text/plain": [
       "<Figure size 432x288 with 1 Axes>"
      ]
     },
     "metadata": {
      "needs_background": "light"
     },
     "output_type": "display_data"
    }
   ],
   "source": [
    "\n",
    "plt.scatter(range(len(m1.ls_qnt_dinheiro)),m1.ls_qnt_dinheiro)\n",
    "# list(filter(lambda x: x[\"estado\"] == \"aberta\", m1.ordens))"
   ]
  },
  {
   "cell_type": "code",
   "execution_count": 104,
   "id": "forbidden-emergency",
   "metadata": {},
   "outputs": [
    {
     "data": {
      "text/plain": [
       "1399.5050700000006"
      ]
     },
     "execution_count": 104,
     "metadata": {},
     "output_type": "execute_result"
    }
   ],
   "source": [
    "m1.qnt_dinheiro_atual"
   ]
  },
  {
   "cell_type": "code",
   "execution_count": 111,
   "id": "southwest-dealer",
   "metadata": {},
   "outputs": [
    {
     "data": {
      "text/plain": [
       "<matplotlib.collections.PathCollection at 0x28182cd8b00>"
      ]
     },
     "execution_count": 111,
     "metadata": {},
     "output_type": "execute_result"
    },
    {
     "data": {
      "image/png": "[encoded data removed]",
      "text/plain": [
       "<Figure size 432x288 with 1 Axes>"
      ]
     },
     "metadata": {
      "needs_background": "light"
     },
     "output_type": "display_data"
    }
   ],
   "source": [
    "ls_lucros = list(map(lambda x: x[\"lucro\"],m1.ordens))\n",
    "\n",
    "plt.scatter(range(len(ls_lucros)), ls_lucros)"
   ]
  },
  {
   "cell_type": "code",
   "execution_count": 13,
   "id": "curious-buyer",
   "metadata": {},
   "outputs": [],
   "source": [
    "# def constroi_grid_estatico(valor_base, variacao_grid):\n",
    "#     def aciona_valor(valor_atual):\n",
    "#         variacao_preco = valor_atual - valor_base\n",
    "#         r_gatilho_constori_nova_operacao = (variacao_preco % variacao_grid >= 0) & (variacao_preco % variacao_grid <= 0.00001)\n",
    "#         return r_gatilho_constori_nova_operacao\n",
    "#     return aciona_valor\n",
    "\n"
   ]
  },
  {
   "cell_type": "code",
   "execution_count": 14,
   "id": "progressive-singing",
   "metadata": {},
   "outputs": [],
   "source": [
    "# map_valor_aciona_operacao = constroi_grid_estatico(1, 0.05) #0.2 reais"
   ]
  },
  {
   "cell_type": "code",
   "execution_count": 15,
   "id": "induced-converter",
   "metadata": {},
   "outputs": [],
   "source": [
    "# df_criado[\"aciona\"] = df_criado[\"close\"].map(map_valor_aciona_operacao)\n"
   ]
  },
  {
   "cell_type": "code",
   "execution_count": 16,
   "id": "selected-walnut",
   "metadata": {},
   "outputs": [],
   "source": [
    "# df_selecao_gatilho = df_criado.where(df_criado[\"aciona\"]==True).dropna()\n",
    "# plt.scatter(df_selecao_gatilho.index,df_selecao_gatilho[\"close\"])\n",
    "# # list(filter(lambda x: x==True,df_criado[\"aciona\"]))"
   ]
  },
  {
   "cell_type": "code",
   "execution_count": 17,
   "id": "excessive-longitude",
   "metadata": {},
   "outputs": [],
   "source": [
    "# len(df_selecao_gatilho)"
   ]
  },
  {
   "cell_type": "code",
   "execution_count": 18,
   "id": "coral-donna",
   "metadata": {},
   "outputs": [],
   "source": [
    "# def gerador_dados(df_criado):\n",
    "#     for row in df_criado.iterrows():\n",
    "#         yield row\n",
    "            "
   ]
  },
  {
   "cell_type": "code",
   "execution_count": 19,
   "id": "another-occupation",
   "metadata": {},
   "outputs": [],
   "source": [
    "# class Mercador_back_test_grid():\n",
    "#     def __init__(self, qnt_dinheiro, distancia):\n",
    "#         self.qnt_dinehiro_inicial = qnt_dinheiro \n",
    "#         self.qnt_dinheiro_atual = qnt_dinheiro\n",
    "#         self.ordens = []\n",
    "#         self.distancia = distancia\n",
    "    \n",
    "#     def _compra(self, ordem):\n",
    "#         self.qnt_dinheiro_atual = self.qnt_dinheiro_atual - ordem[\"compra\"] * ordem[\"qnt\"]\n",
    "#         self.ordens.append(ordem)\n",
    "        \n",
    "#     def cria_ordens(self, valor_compra):\n",
    "#         ordem = constroi_ordem(valor_compra, self.distancia)\n",
    "#         self._compra(ordem)\n",
    "        \n",
    "#     def _termina_ordens(self,close, lis_ordens_a_serem_executadas):\n",
    "#         for ordem in lis_ordens_a_serem_executadas:\n",
    "#             ordem[\"estado\"] = \"fechada\"\n",
    "#             ordem[\"lucro\"] = ordem[\"compra\"] - close\n",
    "#             self.qnt_dinheiro_atual = self.qnt_dinheiro_atual + ordem[\"lucro\"]\n",
    "                \n",
    "#     def executa_ordens(self, close):\n",
    "#         def get_ordens_abertas(x):\n",
    "#             return x[\"estado\"] == \"aberta\"\n",
    "        \n",
    "#         lis_ordens_aberta = list(filter(get_ordens_abertas, self.ordens))\n",
    "#         r_existe_ordens_abertas = len(lis_ordens_aberta) == 0\n",
    "#         if r_existe_ordens_abertas:\n",
    "#             def get_ordens_abertas_range(x):\n",
    "#                 return x[\"venda\"] > close\n",
    "            \n",
    "#             lis_ordens_a_serem_executadas = list(filter(get_ordens_abertas_range),lis_ordens_aberta)\n",
    "#             self._termina_ordens(close,lis_ordens_a_serem_executadas)\n",
    "        \n",
    "        \n",
    "        "
   ]
  },
  {
   "cell_type": "code",
   "execution_count": 20,
   "id": "complicated-airplane",
   "metadata": {},
   "outputs": [],
   "source": [
    "# def back_test():\n",
    "#     g1 = gerador_dados(df_criado)\n",
    "#     m1 = Mercador_back_test_grid(100, 0.3) #0.3 centavos\n",
    "#     for tempo, linha in g1:\n",
    "#     #     tempo, linha = next(g1)\n",
    "#         r_aciona = linha[\"aciona\"]\n",
    "\n",
    "#         if r_aciona:\n",
    "#             m1.cria_ordens(linha[\"close\"])\n",
    "#             m1.executa_ordens(linha[\"close\"])\n",
    "#     return m1"
   ]
  },
  {
   "cell_type": "code",
   "execution_count": 21,
   "id": "streaming-catering",
   "metadata": {},
   "outputs": [],
   "source": [
    "# m1 = back_test()"
   ]
  },
  {
   "cell_type": "code",
   "execution_count": 22,
   "id": "public-string",
   "metadata": {},
   "outputs": [],
   "source": [
    "# m1.ordens"
   ]
  },
  {
   "cell_type": "code",
   "execution_count": 23,
   "id": "terminal-albuquerque",
   "metadata": {},
   "outputs": [],
   "source": [
    "# def map_operacoes(linha):\n",
    "# #     print(\"----------------------\")\n",
    "# #     print(linha)\n",
    "#     r_compra = linha[\"operacao\"] == 0\n",
    "#     r_venda = linha[\"operacao\"] == 1\n",
    "#     r_c_or_venda = r_compra | r_venda\n",
    "#     r_schedule =  linha[\"scheduler\"]\n",
    "#     r_decisao = r_c_or_venda & r_schedule\n",
    "#     if r_decisao:\n",
    "#         return 1\n",
    "#     else:\n",
    "#         return 0"
   ]
  },
  {
   "cell_type": "markdown",
   "id": "aggregate-comparison",
   "metadata": {},
   "source": [
    "# Calculan"
   ]
  },
  {
   "cell_type": "code",
   "execution_count": 24,
   "id": "occupational-arrival",
   "metadata": {},
   "outputs": [],
   "source": [
    "# g1 = gerador_dados(df_criado)\n",
    "\n",
    "# ls_operacao = []\n",
    "# ls_qnt_btc = []\n",
    "# ls_scheduler = []\n",
    "# vari_menor = -0.3\n",
    "# varia_maior = 1.5\n",
    "# tamanho_grid = 0.2\n",
    "\n",
    "# for saida in g1:\n",
    "#     ls_operacao.append(estrategia(saida[1],vari_menor, varia_maior )[0])\n",
    "#     ls_qnt_btc.append(estrategia(saida[1],vari_menor, varia_maior )[1])\n",
    "#     ls_scheduler.append(scheduler(saida[1],tamanho_grid))\n",
    "    \n",
    "# df_criado[\"operacao\"] = ls_operacao\n",
    "# df_criado[\"qnt_btc\"] = ls_qnt_btc\n",
    "# df_criado[\"scheduler\"] = ls_scheduler\n",
    "# df_criado[\"alguma_operacao\"] = df_criado.apply(map_operacoes, axis=1)\n",
    "# df_criado.head()"
   ]
  },
  {
   "cell_type": "code",
   "execution_count": null,
   "id": "suited-grade",
   "metadata": {},
   "outputs": [],
   "source": [
    "\n",
    " \n",
    "        "
   ]
  },
  {
   "cell_type": "code",
   "execution_count": null,
   "id": "ahead-boutique",
   "metadata": {},
   "outputs": [],
   "source": []
  },
  {
   "cell_type": "code",
   "execution_count": null,
   "id": "retired-botswana",
   "metadata": {},
   "outputs": [],
   "source": []
  },
  {
   "cell_type": "code",
   "execution_count": 25,
   "id": "animated-pasta",
   "metadata": {},
   "outputs": [],
   "source": [
    "# inicio = 1\n",
    "# fim = 500 + inicio\n",
    "\n",
    "# fig, ax = plt.subplots(4,1)\n",
    "# fig.set_size_inches(18.5, 30.5)\n",
    "\n",
    "# ax[0].scatter(df_criado.index[-fim:-inicio], df_criado[\"operacao\"][-fim:-inicio])\n",
    "# ax[1].scatter(df_criado.index[-fim:-inicio], df_criado[\"qnt_btc\"][-fim:-inicio])\n",
    "# ax[2].scatter(df_criado.index[-fim:-inicio], df_criado[\"scheduler\"][-fim:-inicio])\n",
    "# ax[3].scatter(df_criado.index[-fim:-inicio], df_criado[\"alguma_operacao\"][-fim:-inicio])"
   ]
  },
  {
   "cell_type": "code",
   "execution_count": null,
   "id": "ancient-prescription",
   "metadata": {},
   "outputs": [],
   "source": []
  },
  {
   "cell_type": "code",
   "execution_count": 26,
   "id": "ranking-clock",
   "metadata": {},
   "outputs": [],
   "source": [
    "# class Mercador():\n",
    "#     def __init__(self, qnt_dinheiro):\n",
    "#         self.qnt_dinherio_inicial = qnt_dinheiro\n",
    "#         self.qnt_dinherio_atual = qnt_dinheiro\n",
    "#         self.btc_atual = 0\n",
    "#         self.ls_valor_carteira = []\n",
    "    \n",
    "#     def _operacao_compra(self, por_para_ajustar, v_negociacao):\n",
    "#         btc_compra = (self.qnt_dinherio_atual * por_para_ajustar) / v_negociacao\n",
    "#         self.btc_atual = self.btc_atual + btc_compra\n",
    "#         self.qnt_dinherio_atual = self.qnt_dinherio_atual * por_para_ajustar\n",
    "#         self.ls_valor_carteira.append(self.qnt_dinherio_atual + self.btc_atual*v_negociacao )\n",
    "    \n",
    "    \n",
    "#     def _operacao_venda(self, por_para_ajustar, v_negociacao):\n",
    "#         btc_venda = self.btc_atual * por_para_ajustar\n",
    "#         self.btc_atual = self.btc_atual - btc_venda\n",
    "#         self.qnt_dinherio_atual = btc_venda* v_negociacao\n",
    "    \n",
    "#         self.ls_valor_carteira.append(self.qnt_dinherio_atual + self.btc_atual*v_negociacao )\n",
    "    \n",
    "#     def ajusta_portifolio_por(self, por_para_ajustar, v_negociacao):\n",
    "#         def get_porcento_atual():\n",
    "#             s = self.btc_atual * 100/(self.btc_atual + self.qnt_dinherio_atual) # so nao pode ser zero\n",
    "#             return s \n",
    "        \n",
    "#         r_oper_compra = por_para_ajustar >= get_porcento_atual()\n",
    "#         r_oper_venda = por_para_ajustar < get_porcento_atual()\n",
    "#         if r_oper_compra:\n",
    "#             self._operacao_compra(por_para_ajustar - get_porcento_atual(), v_negociacao)\n",
    "#         if r_oper_venda:\n",
    "#             self._operacao_venda(get_porcento_atual() - por_para_ajustar, v_negociacao)\n",
    "            \n",
    "# #         print(get_porcento_atual())\n",
    "        \n",
    "        \n",
    "        \n",
    "        \n",
    "        "
   ]
  },
  {
   "cell_type": "code",
   "execution_count": 27,
   "id": "collect-addiction",
   "metadata": {},
   "outputs": [],
   "source": [
    "# m1 = wk.Mercador_back_teste(100)\n",
    "# df_criado.head()"
   ]
  },
  {
   "cell_type": "code",
   "execution_count": 28,
   "id": "selective-moses",
   "metadata": {},
   "outputs": [],
   "source": [
    "# g1 = gerador_dados(df_criado)\n",
    "# m1 = wk.Mercador_back_teste(100)\n",
    "# for saida in g1:\n",
    "#     porcentagem = saida[1][\"qnt_btc\"]\n",
    "#     r_compra = saida[1][\"r_compra\"]\n",
    "#     val_negociacao = saida[1][\"close\"]\n",
    "#     r_cheduler = saida[1][\"alguma_operacao\"] \n",
    "#     index = saida[0]\n",
    "#     r_qnt = porcentagem > 0\n",
    "#     if r_cheduler:\n",
    "# #         if r_qnt:\n",
    "# #         m1.ajusta_portifolio_por(porcentagem, val_negociacao)\n",
    "# #     if r_qnt:\n",
    "#         m1.ajusta_portifolio_por(porcentagem, val_negociacao,index, r_compra)"
   ]
  },
  {
   "cell_type": "code",
   "execution_count": 29,
   "id": "compact-matrix",
   "metadata": {},
   "outputs": [],
   "source": [
    "# def filtra_por(str_operaca):\n",
    "#     def filt_venda(x):\n",
    "#         s = x[\"busc_operacao\"] == str_operaca\n",
    "#         return s\n",
    "#     return filt_venda\n",
    "    \n",
    "# def map_tempo(x):\n",
    "#     return x[\"tempo\"]\n",
    "    \n",
    "\n",
    "# ls_vend= list(map(map_tempo, filter(filtra_por(False), m1.ls_dict)))\n",
    "# ls_comp = list(map(map_tempo, filter(filtra_por(True), m1.ls_dict)))\n"
   ]
  },
  {
   "cell_type": "code",
   "execution_count": null,
   "id": "bibliographic-covering",
   "metadata": {},
   "outputs": [],
   "source": []
  },
  {
   "cell_type": "code",
   "execution_count": 30,
   "id": "fitted-arena",
   "metadata": {},
   "outputs": [],
   "source": [
    "# inicio = 1\n",
    "# fim = 10000 + inicio\n",
    "\n",
    "# fig, ax = plt.subplots(3,1)\n",
    "# fig.set_size_inches(18.5, 30.5)\n",
    "\n",
    "\n",
    "# # ax[0].plot(df_criado[\"close\"][-fim:-inicio],label='Close')\n",
    "# # ax[0].plot(df_criado[\"ema_1200\"][-fim:-inicio],label='1200')\n",
    "# ax[0].scatter(ls_comp, df_criado[\"close\"].loc[ls_comp],label='compra', alpha=0.4)\n",
    "# ax[0].scatter(ls_vend, df_criado[\"close\"].loc[ls_vend],label='venda', alpha=0.4)\n",
    "# ax[0].legend()\n",
    "\n",
    "# ax[1].plot(m1.ls_tempo[-fim:-inicio], m1.ls_valor_carteira[-fim:-inicio])\n",
    "\n",
    "\n",
    "# ax[1].plot(m1.ls_tempo[-fim:-inicio], m1.ls_valor_carteira[-fim:-inicio])\n",
    "\n",
    "\n",
    "# ax[2].plot(df_criado[\"qnt_btc\"][-fim:-inicio])"
   ]
  },
  {
   "cell_type": "code",
   "execution_count": 31,
   "id": "genetic-general",
   "metadata": {},
   "outputs": [],
   "source": [
    "# m1.ls_tipo[-10:]"
   ]
  },
  {
   "cell_type": "code",
   "execution_count": 32,
   "id": "skilled-northeast",
   "metadata": {},
   "outputs": [],
   "source": [
    "# plt.plot(r_cheduler)\n",
    "# print(r_cheduler)\n",
    "# plt.plot(m1.ls_valor_carteira)"
   ]
  },
  {
   "cell_type": "code",
   "execution_count": 33,
   "id": "received-murray",
   "metadata": {},
   "outputs": [],
   "source": [
    "# btc = {\"qnt_moeda\": 1, \"v_negociado\":23423, \"t_operaca\": \"buy!sell\" }\n",
    "\n",
    "\n",
    "# class Mercador():\n",
    "#     def __init__(self, quantidade_inicial, estrategia):\n",
    "#         self.quantidade_inicial = quantidade_inicial\n",
    "#         self.quantidade_atual = quantidade_inicial\n",
    "#         self.btc_comprados_atual = []\n",
    "#         self.estrategia = estrategia\n",
    "        \n",
    "        \n",
    "#     def novo_tick(self, linha_tabela):\n",
    "#         estado, qnt_bitcoin_ideal = self.estrategia(linha_tabela)\n",
    "        \n",
    "#         r_compra = estado == 0\n",
    "#         r_venda = estado == 1\n",
    "#         r_incerto = estado == 2\n",
    "        \n",
    "#         if r_compra:\n",
    "#             self._fazer_operacao_compra(qnt_bitcoin_ideal, linha_tabela[\"close\"])\n",
    "            \n",
    "        \n",
    "#         if r_venda:\n",
    "#             self._fazer_operacao_compra(qnt_bitcoin_ideal, linha_tabela[\"close\"])\n",
    "            \n",
    "#         print(self.btc_comprados_atual)\n",
    "#         print(self.quantidade_atual)\n",
    "        \n",
    "#     def _get_quantidade(self):\n",
    "#         def map_qnt_btc(x):\n",
    "#             return x[\"qnt_moeda\"]\n",
    "        \n",
    "#         ls_me_com = list(map(map_qnt_btc,self.btc_comprados_atual))\n",
    "#         r_possui_valore = len(ls_me_com)\n",
    "#         if r_possui_valore:\n",
    "#             soma = pd.Series(ls_me_com).sum()\n",
    "#             return soma\n",
    "#         else:\n",
    "#             return 0\n",
    "    \n",
    "    \n",
    "\n",
    "#     def _get_preco_medio_por(self):\n",
    "#         def map_qnt_btc(x):\n",
    "#             return x[\"qnt_moeda\"] * x[\"v_negociado\"]\n",
    "        \n",
    "#         def get_porcento(soma_btc):\n",
    "#             s = soma_btc * 100/(soma_btc - self.quantidade_atual) # so nao pode ser zero\n",
    "#             return s \n",
    "        \n",
    "#         ls_me_com = list(map(map_qnt_btc, self.btc_comprados_atual))\n",
    "#         r_possui_valore = len(ls_me_com)\n",
    "#         if r_possui_valore:\n",
    "            \n",
    "#             soma_btc = pd.Series(ls_me_com).sum()\n",
    "#             soma_btc_p =  get_porcento(soma_btc)\n",
    "#             return soma_btc_p\n",
    "#         else:\n",
    "#             return 0\n",
    "\n",
    "#     def _get_fez_compra(self, preco):\n",
    "#         def fil_compra(x):\n",
    "#             r_fez_compra =  preco > x[\"v_negociado\"]*1.02 and preco < x[\"v_negociado\"]*-1.02\n",
    "#             return r_fez_compra\n",
    "        \n",
    "#         r_ja_fez_uma_compra = len(list(filter(fil_compra, self.btc_comprados_atual))) != 0\n",
    "#         return r_ja_fez_uma_compra\n",
    "    \n",
    "#     def _realizar_compra(self, qnt_compra, preco_tick):\n",
    "#         qnt_compra_2 = qnt_compra/2\n",
    "#         qnt_compra_brl  = self.quantidade_atual * qnt_compra_2\n",
    "#         qnt_compra_pedida_moeda = preco_tick/qnt_compra_brl\n",
    "        \n",
    "#         self.quantidade_atual = self.quantidade_atual - qnt_compra_brl\n",
    "        \n",
    "        \n",
    "#         self.btc_comprados_atual.append({\"qnt_moeda\": qnt_compra_pedida_moeda, \n",
    "#                                          \"v_negociado\":preco_tick,\n",
    "#                                          \"t_operaca\": \"buy\" })\n",
    "        \n",
    "        \n",
    "        \n",
    "#     def _realizar_venda(self, qnt_venda, preco_tick):\n",
    "#         def map_valores(x):\n",
    "#             return preco_tick - x[\"v_negociado\"] \n",
    "        \n",
    "#         get_inde_maior = self.btc_comprados_atual.index(max(self.btc_comprados_atual))\n",
    "#         operacao_aberta = self.btc_comprados_atual[get_inde_maior]\n",
    "        \n",
    "#         r_possui_qnt_vender = operacao_aberta[\"qnt_moeda\"] > qnt_venda\n",
    "#         if r_possui_qnt_vender:\n",
    "#             self.quantidade_atual = self.quantidade_atual + qnt_venda * preco_tick\n",
    "#             operacao_aberta[\"qnt_moeda\"] = operacao_aberta[\"qnt_moeda\"] - qnt_venda\n",
    "            \n",
    "#         else:\n",
    "#             self.quantidade_atual = self.quantidade_atual + qnt_venda * preco_tick\n",
    "#             self.btc_comprados_atual.pop(get_inde_maior)\n",
    "#             print(\"_-------------------------------\")\n",
    "#             print(operacao_aberta)\n",
    "        \n",
    "    \n",
    "    \n",
    "#     def _fazer_operacao_compra(self, qnt_bitcoin_ideal, preco_tick ):\n",
    "#         qnt_bitcoin_por = self._get_preco_medio_por()\n",
    "        \n",
    "#         r_comprar_mais = qnt_bitcoin_por < qnt_bitcoin_ideal\n",
    "#         r_vender_mais = qnt_bitcoin_por >= qnt_bitcoin_ideal\n",
    "       \n",
    "#         if r_comprar_mais:\n",
    "#             r_ja_fez_uma_compra = self._get_fez_compra(preco_tick)\n",
    "#             if not r_ja_fez_uma_compra:\n",
    "#                 self._realizar_compra(qnt_bitcoin_ideal - qnt_bitcoin_por, preco_tick)\n",
    "                    \n",
    "#         if r_vender_mais:\n",
    "#             r_ja_fez_uma_compra = self._get_fez_compra(preco_tick)\n",
    "#             if not r_ja_fez_uma_compra:\n",
    "#                 self._realizar_venda(qnt_bitcoin_ideal - qnt_bitcoin_por,preco_tick)\n",
    "        \n",
    "        "
   ]
  },
  {
   "cell_type": "code",
   "execution_count": 34,
   "id": "liked-client",
   "metadata": {},
   "outputs": [],
   "source": [
    "# Testar uma estrategi"
   ]
  },
  {
   "cell_type": "code",
   "execution_count": 35,
   "id": "detailed-semester",
   "metadata": {},
   "outputs": [],
   "source": [
    "# def gerador_dados(df_criado):\n",
    "#     for row in df_criado.iterrows():\n",
    "#         yield row\n",
    "        "
   ]
  },
  {
   "cell_type": "code",
   "execution_count": 36,
   "id": "statewide-rating",
   "metadata": {},
   "outputs": [],
   "source": [
    "# m1 = Mercador(200, estrategia)\n",
    "# g1 = gerador_dados(df_criado)"
   ]
  },
  {
   "cell_type": "code",
   "execution_count": 37,
   "id": "charitable-sarah",
   "metadata": {},
   "outputs": [],
   "source": [
    "# m1.novo_tick(next(g1)[1])"
   ]
  },
  {
   "cell_type": "code",
   "execution_count": null,
   "id": "primary-black",
   "metadata": {},
   "outputs": [],
   "source": []
  },
  {
   "cell_type": "code",
   "execution_count": 38,
   "id": "patient-fiction",
   "metadata": {},
   "outputs": [],
   "source": [
    "# next(g1)[1]\n"
   ]
  },
  {
   "cell_type": "code",
   "execution_count": null,
   "id": "critical-jacksonville",
   "metadata": {},
   "outputs": [],
   "source": []
  },
  {
   "cell_type": "code",
   "execution_count": null,
   "id": "controversial-scheme",
   "metadata": {},
   "outputs": [],
   "source": []
  },
  {
   "cell_type": "code",
   "execution_count": 39,
   "id": "indian-repeat",
   "metadata": {},
   "outputs": [],
   "source": [
    "# saida_proporção_conta_venda(-13000)"
   ]
  },
  {
   "cell_type": "code",
   "execution_count": 40,
   "id": "radical-welding",
   "metadata": {},
   "outputs": [],
   "source": [
    "# na caida mais dinheiro 80-20, total dinheiro mais btc * valor atual\n",
    "\n",
    "# na subida mais bitcoin 20-80\n",
    "# varia_bb = saida_BB[\"BB_UPPER\"] - saida_300_passada\n",
    "# saida_BB"
   ]
  },
  {
   "cell_type": "code",
   "execution_count": 41,
   "id": "furnished-caution",
   "metadata": {},
   "outputs": [],
   "source": [
    "# fig, ax = plt.subplots(1,1)\n",
    "# fig.set_size_inches(18.5, 20.5)\n",
    "# plt.plot(df_normalizada,label='dif_300')\n",
    "# # plt.plot(saida_BB[\"BB_UPPER\"] - saida_300_passada,label='BB')\n",
    "# # plt.plot(saida_BB[\"BB_LOWER\"] - saida_300_passada,label='BB')\n",
    "# # plt.plot(varia_bb * 2, label='BB')\n",
    "\n",
    "# plt.show()"
   ]
  },
  {
   "cell_type": "code",
   "execution_count": null,
   "id": "false-albuquerque",
   "metadata": {},
   "outputs": [],
   "source": []
  },
  {
   "cell_type": "code",
   "execution_count": null,
   "id": "extraordinary-waters",
   "metadata": {},
   "outputs": [],
   "source": []
  },
  {
   "cell_type": "code",
   "execution_count": 42,
   "id": "inner-sleeve",
   "metadata": {},
   "outputs": [],
   "source": [
    "# def cre_map(df_normalizada):\n",
    "#     max_v = 10000\n",
    "#     min_ = -10000\n",
    "#     def c_map(x):\n",
    "#         pass\n",
    "# #     df_normalizada.max()\n",
    "# #     df_normalizada.min()"
   ]
  },
  {
   "cell_type": "code",
   "execution_count": 43,
   "id": "suited-success",
   "metadata": {},
   "outputs": [],
   "source": [
    "# def filt_fun(x):\n",
    "#     r_saida = (x > 0) & (x <1000)\n",
    "#     return r_saida\n",
    "\n",
    "# df_normalizada_filtered = df_normalizada.mask(filt_fun)\n",
    "# # df_normalizada_filtered.dropna()\n",
    "# df_normalizada_filtered"
   ]
  },
  {
   "cell_type": "code",
   "execution_count": 44,
   "id": "innovative-provision",
   "metadata": {},
   "outputs": [],
   "source": [
    "# df_normalizada_filtered"
   ]
  },
  {
   "cell_type": "code",
   "execution_count": 45,
   "id": "confirmed-policy",
   "metadata": {},
   "outputs": [],
   "source": [
    "# inicio = 100\n",
    "# fim = 10000 + inicio\n",
    "\n",
    "# fig, ax = plt.subplots()\n",
    "# fig.set_size_inches(18.5, 10.5)\n",
    "\n",
    "\n",
    "\n",
    "\n",
    "# # saida_saida_30 = TA.EMA(df_sadida, 30)\n",
    "# # saida_saida_30.head()\n",
    "\n",
    "# plt.plot(df_sadida[-fim:-inicio],label='dif_300')\n",
    "# # plt.plot(saida_saida_30[-fim:-inicio],label='dif_300_3')"
   ]
  },
  {
   "cell_type": "code",
   "execution_count": 46,
   "id": "lucky-russell",
   "metadata": {},
   "outputs": [],
   "source": [
    "# df_sadida"
   ]
  },
  {
   "cell_type": "code",
   "execution_count": 47,
   "id": "present-plate",
   "metadata": {},
   "outputs": [],
   "source": [
    "# df_normalizada_filtered.index.values[-fim:-inicio]"
   ]
  },
  {
   "cell_type": "code",
   "execution_count": null,
   "id": "uniform-steering",
   "metadata": {},
   "outputs": [],
   "source": [
    "\n",
    "        "
   ]
  },
  {
   "cell_type": "code",
   "execution_count": 48,
   "id": "complimentary-wallet",
   "metadata": {},
   "outputs": [],
   "source": [
    "# df_ultimos_30 = df_criado\n",
    "# df_ultimos_30"
   ]
  },
  {
   "cell_type": "code",
   "execution_count": 49,
   "id": "gentle-breed",
   "metadata": {},
   "outputs": [],
   "source": [
    "# def estrategia(df_ultimos_30):\n",
    "\n",
    "#     df_ultimos_30[\"t_ema_100\"]= TA.EMA(df_ultimos_30, 100)\n",
    "#     df_ultimos_30[\"t_ema_30\"]= TA.EMA(df_ultimos_30, 30)\n",
    "\n",
    "#     r_vari_positiva = df_ultimos_30[\"t_ema_100\"].iloc[-1] - df_ultimos_30[\"t_ema_100\"].iloc[-2] >0\n",
    "\n",
    "#     r_preco_bom = df_ultimos_30[\"t_ema_30\"].iloc[-1] < df_ultimos_30[\"Close\"].iloc[-1]\n",
    "\n",
    "#     r_libera_compra = r_vari_positiva + r_preco_bom\n",
    "    \n",
    "# #     vl_saida = df_ultimos_30[\"t_ema_100\"].iloc[-1]\n",
    "#     deu_ruim = df_ultimos_30[\"t_ema_100\"].iloc[-1]\n",
    "#     return r_libera_compra, deu_ruim, df_ultimos_30[\"t_ema_100\"].iloc[-1]\n"
   ]
  },
  {
   "cell_type": "code",
   "execution_count": 50,
   "id": "systematic-anchor",
   "metadata": {},
   "outputs": [],
   "source": [
    "# def get_os_iniciais(quantidade):\n",
    "#     return df_criado[-quantidade:]"
   ]
  },
  {
   "cell_type": "code",
   "execution_count": 51,
   "id": "tough-steam",
   "metadata": {},
   "outputs": [],
   "source": [
    "# def constori_gerador_dados(df_criado):\n",
    "\n",
    "#     return gerador\n"
   ]
  },
  {
   "cell_type": "code",
   "execution_count": 52,
   "id": "legitimate-wellington",
   "metadata": {},
   "outputs": [],
   "source": [
    "# class Mercador():\n",
    "#     def __init__(self, qnt_inicial):\n",
    "#         self.quantidade = qnt_inicial\n",
    "#         self.btc = 0\n",
    "#         self.ls_negociado = []\n",
    "        \n",
    "        \n",
    "#     def compra(self, negociacao, preco):\n",
    "#         r_ja_comprado = self.btc > 0\n",
    "#         if not r_ja_comprado:\n",
    "#             self.quantidade = self.quantidade - negociacao\n",
    "#             self.btc = negociacao/preco * 1# (1 - 0.70/100)\n",
    "#             print(\"compro uma vez pelo \",preco,\" a quantidade de \",self.btc )\n",
    "#             plt.plot(self.ls_negociado)\n",
    "#             plt.show()\n",
    "#         return r_ja_comprado\n",
    "    \n",
    "#     def venda(self, negociacao):\n",
    "#         r_tem_pra_vender = self.btc > 0\n",
    "#         if r_tem_pra_vender:\n",
    "#             self.quantidade = self.quantidade + self.btc * negociacao * 1 #(1- 0.7/100)\n",
    "            \n",
    "\n",
    "#             self.ls_negociado.append(self.quantidade)\n",
    "#             print(\"vendeu a quantidade de \",self.btc, \" pelo valor de \", negociacao)\n",
    "#             plt.plot(self.ls_negociado)\n",
    "#             plt.show()\n",
    "            \n",
    "#             self.btc = 0\n",
    "            \n",
    "#         return r_tem_pra_vender"
   ]
  },
  {
   "cell_type": "code",
   "execution_count": 53,
   "id": "mineral-dubai",
   "metadata": {},
   "outputs": [],
   "source": [
    "# def adicionand_ge(saida, df_ultimos_30 ):\n",
    "#     dict_saida = {\"Date\":saida[0],\n",
    "#                   \"fim\":saida[1][\"fim\"],\n",
    "#                   \"Open\":saida[1][\"Open\"], \n",
    "#                   \"Close\":saida[1][\"Close\"], \n",
    "#                   \"Volume\":saida[1][\"Volume\"],\n",
    "#                   \"High\":saida[1][\"High\"],\n",
    "#                   \"Low\":saida[1][\"Low\"]} \n",
    "    \n",
    "    \n",
    "#     df_ultimos_30 =df_ultimos_30.drop(df_ultimos_30.index[0])\n",
    "#     return df_ultimos_30.append(dict_saida, ignore_index=True)"
   ]
  },
  {
   "cell_type": "code",
   "execution_count": 54,
   "id": "upset-latvia",
   "metadata": {},
   "outputs": [],
   "source": [
    "# mercador = Mercador(100)\n",
    "# df_ultimos_30 = get_os_iniciais(150)\n",
    "\n",
    "# gera = cria_gerador(df_criado)"
   ]
  },
  {
   "cell_type": "code",
   "execution_count": 55,
   "id": "municipal-turner",
   "metadata": {},
   "outputs": [],
   "source": [
    "\n",
    "# i=0\n",
    "# r_ja_comprado= False\n",
    "# for saida in gera:\n",
    "#         # for valor in gera:\n",
    "#     #     print(saida[0])\n",
    "#     # saida = next(gera)\n",
    "#     df_ultimos_30 = adicionand_ge(saida, df_ultimos_30)\n",
    "\n",
    "#     r_compra, v_liquida, v_lucro = estrategia(df_ultimos_30)\n",
    "\n",
    "#     valor_atual = saida[1][\"Close\"]\n",
    "\n",
    "    \n",
    "\n",
    "#     if r_ja_comprado:\n",
    "#         if valor_atual < v_liquida:\n",
    "#             mercador.venda(valor_atual)\n",
    "\n",
    "#         if valor_atual > v_lucro:\n",
    "#             mercador.venda(valor_atual)\n",
    "    \n",
    "#     if r_compra:\n",
    "#         r_ja_comprado = mercador.compra(10, valor_atual )\n",
    "        \n",
    "\n",
    "        \n",
    "# print(valor_atual, r_compra, v_liquida, v_lucro )"
   ]
  },
  {
   "cell_type": "code",
   "execution_count": 56,
   "id": "normal-yacht",
   "metadata": {},
   "outputs": [],
   "source": [
    "# saida[1]"
   ]
  },
  {
   "cell_type": "code",
   "execution_count": 57,
   "id": "arranged-territory",
   "metadata": {},
   "outputs": [],
   "source": [
    "# saida[1][\"Close\"] > v_lucro"
   ]
  },
  {
   "cell_type": "code",
   "execution_count": 58,
   "id": "ranging-stroke",
   "metadata": {},
   "outputs": [],
   "source": [
    "# type(saida)\n"
   ]
  },
  {
   "cell_type": "code",
   "execution_count": null,
   "id": "august-forest",
   "metadata": {},
   "outputs": [],
   "source": []
  },
  {
   "cell_type": "code",
   "execution_count": 59,
   "id": "roman-consultancy",
   "metadata": {},
   "outputs": [],
   "source": [
    "# df_ultimos_30.iloc[-1]"
   ]
  },
  {
   "cell_type": "code",
   "execution_count": null,
   "id": "polar-decrease",
   "metadata": {},
   "outputs": [],
   "source": [
    "\n",
    "\n",
    "\n",
    "    "
   ]
  },
  {
   "cell_type": "code",
   "execution_count": null,
   "id": "blank-prague",
   "metadata": {},
   "outputs": [],
   "source": []
  },
  {
   "cell_type": "code",
   "execution_count": null,
   "id": "international-lawsuit",
   "metadata": {},
   "outputs": [],
   "source": []
  },
  {
   "cell_type": "code",
   "execution_count": null,
   "id": "confused-biology",
   "metadata": {},
   "outputs": [],
   "source": []
  },
  {
   "cell_type": "code",
   "execution_count": 60,
   "id": "engaging-timer",
   "metadata": {},
   "outputs": [],
   "source": [
    "# mpf.plot(df_criado[len(df_criado)-100:len(df_criado)],type='candle',volume=True)\n",
    "# mpf.plot(saida)"
   ]
  },
  {
   "cell_type": "code",
   "execution_count": 61,
   "id": "baking-credit",
   "metadata": {},
   "outputs": [],
   "source": [
    "# mpf.plot(df_criado,type='candle',volume=True)"
   ]
  },
  {
   "cell_type": "code",
   "execution_count": 62,
   "id": "quality-artist",
   "metadata": {},
   "outputs": [],
   "source": [
    "# from finta import TA"
   ]
  },
  {
   "cell_type": "code",
   "execution_count": 63,
   "id": "cubic-pacific",
   "metadata": {},
   "outputs": [],
   "source": [
    "# TA.SMA(df_criado, 42)"
   ]
  },
  {
   "cell_type": "code",
   "execution_count": 64,
   "id": "saving-image",
   "metadata": {},
   "outputs": [],
   "source": [
    "# TA.MACD(df_criado,12,26)"
   ]
  },
  {
   "cell_type": "code",
   "execution_count": 65,
   "id": "robust-platform",
   "metadata": {},
   "outputs": [],
   "source": [
    "# ma = TA.MACD(df_criado,10,40)"
   ]
  },
  {
   "cell_type": "code",
   "execution_count": 66,
   "id": "further-clarity",
   "metadata": {},
   "outputs": [],
   "source": [
    "# print(ma.head(100))"
   ]
  },
  {
   "cell_type": "code",
   "execution_count": 67,
   "id": "finnish-remainder",
   "metadata": {},
   "outputs": [],
   "source": [
    "# TA.MOM(df_criado)"
   ]
  },
  {
   "cell_type": "code",
   "execution_count": 68,
   "id": "documentary-minority",
   "metadata": {},
   "outputs": [],
   "source": [
    "# TA.SMA(df_criado,10)"
   ]
  },
  {
   "cell_type": "code",
   "execution_count": 69,
   "id": "bright-russia",
   "metadata": {},
   "outputs": [],
   "source": [
    "# TA.SMA(df_criado,20)"
   ]
  },
  {
   "cell_type": "code",
   "execution_count": 70,
   "id": "postal-dominican",
   "metadata": {},
   "outputs": [],
   "source": [
    "# TA.EMA(df_criado, 10)\n",
    "# TA.EMA(df_criado, 30)"
   ]
  },
  {
   "cell_type": "code",
   "execution_count": 71,
   "id": "accessible-legend",
   "metadata": {},
   "outputs": [],
   "source": [
    "# TA.PIVOT_FIB(df_criado)"
   ]
  },
  {
   "cell_type": "code",
   "execution_count": 72,
   "id": "naval-audio",
   "metadata": {},
   "outputs": [],
   "source": [
    "# r_comprar = r_cruzou_media_subindo + r_var_mac_positiva"
   ]
  },
  {
   "cell_type": "code",
   "execution_count": 73,
   "id": "stretch-veteran",
   "metadata": {},
   "outputs": [],
   "source": [
    "# class Operacoes:\n",
    "#     def __init__(self, qnt_compra_pedida_moeda,preco_tick, tipo ):\n",
    "#         self.dic_operaca = {\"qnt_moeda\": qnt_compra_pedida_moeda, \n",
    "#                             \"v_negociado\":preco_tick,\n",
    "#                             \"t_operaca\": tipo}\n",
    "        \n",
    "        "
   ]
  },
  {
   "cell_type": "code",
   "execution_count": null,
   "id": "increasing-velvet",
   "metadata": {},
   "outputs": [],
   "source": []
  },
  {
   "cell_type": "code",
   "execution_count": 74,
   "id": "described-artist",
   "metadata": {},
   "outputs": [],
   "source": [
    "# https://github.com/peerchemist/finta"
   ]
  }
 ],
 "metadata": {
  "kernelspec": {
   "display_name": "Python 3",
   "language": "python",
   "name": "python3"
  },
  "language_info": {
   "codemirror_mode": {
    "name": "ipython",
    "version": 3
   },
   "file_extension": ".py",
   "mimetype": "text/x-python",
   "name": "python",
   "nbconvert_exporter": "python",
   "pygments_lexer": "ipython3",
   "version": "3.6.12"
  }
 },
 "nbformat": 4,
 "nbformat_minor": 5
}
